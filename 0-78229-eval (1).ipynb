{
 "cells": [
  {
   "cell_type": "markdown",
   "id": "sophisticated-concert",
   "metadata": {
    "_cell_guid": "b1076dfc-b9ad-4769-8c92-a6c4dae69d19",
    "_uuid": "8f2839f25d086af736a60e9eeb907d3b93b6e0e5",
    "execution": {
     "iopub.execute_input": "2021-06-09T21:46:28.452055Z",
     "iopub.status.busy": "2021-06-09T21:46:28.451618Z",
     "iopub.status.idle": "2021-06-09T21:46:28.461754Z",
     "shell.execute_reply": "2021-06-09T21:46:28.460854Z",
     "shell.execute_reply.started": "2021-06-09T21:46:28.452023Z"
    },
    "papermill": {
     "duration": 0.059199,
     "end_time": "2021-06-12T07:01:36.457966",
     "exception": false,
     "start_time": "2021-06-12T07:01:36.398767",
     "status": "completed"
    },
    "tags": []
   },
   "source": [
    "## This Python 3 environment comes with many helpful analytics libraries installed\n",
    "# It is defined by the kaggle/python Docker image: https://github.com/kaggle/docker-python\n",
    "# For example, here's several helpful packages to load\n",
    "\n",
    "import numpy as np # linear algebra\n",
    "import pandas as pd # data processing, CSV file I/O (e.g. pd.read_csv)\n",
    "\n",
    "# Input data files are available in the read-only \"../input/\" directory\n",
    "# For example, running this (by clicking run or pressing Shift+Enter) will list all files under the input directory\n",
    "\n",
    "import os\n",
    "for dirname, _, filenames in os.walk('/kaggle/input'):\n",
    "    for filename in filenames:\n",
    "        print(os.path.join(dirname, filename))\n",
    "\n",
    "# You can write up to 20GB to the current directory (/kaggle/working/) that gets preserved as output when you create a version using \"Save & Run All\" \n",
    "# You can also write temporary files to /kaggle/temp/, but they won't be saved outside of the current session"
   ]
  },
  {
   "cell_type": "code",
   "execution_count": 1,
   "id": "hybrid-attendance",
   "metadata": {
    "execution": {
     "iopub.execute_input": "2021-06-12T07:01:36.577526Z",
     "iopub.status.busy": "2021-06-12T07:01:36.576377Z",
     "iopub.status.idle": "2021-06-12T07:01:37.959811Z",
     "shell.execute_reply": "2021-06-12T07:01:37.958973Z",
     "shell.execute_reply.started": "2021-06-12T06:56:47.923568Z"
    },
    "papermill": {
     "duration": 1.444238,
     "end_time": "2021-06-12T07:01:37.959986",
     "exception": false,
     "start_time": "2021-06-12T07:01:36.515748",
     "status": "completed"
    },
    "tags": []
   },
   "outputs": [],
   "source": [
    "# modules we'll use\n",
    "import pandas as pd\n",
    "import numpy as np\n",
    "%matplotlib inline\n",
    "import matplotlib.pyplot as plt\n",
    "import seaborn as sns\n",
    "from sklearn.preprocessing import MinMaxScaler\n",
    "from sklearn.preprocessing import LabelEncoder\n",
    "from sklearn.model_selection import train_test_split\n",
    "from sklearn.tree import DecisionTreeClassifier\n",
    "from sklearn.metrics import accuracy_score\n",
    "from sklearn.ensemble import RandomForestClassifier\n",
    "from sklearn.neighbors import KNeighborsClassifier\n",
    "from sklearn.ensemble import VotingClassifier\n",
    "from sklearn.linear_model import LogisticRegression\n",
    "from sklearn.naive_bayes import GaussianNB\n",
    "from sklearn.metrics import mean_absolute_error"
   ]
  },
  {
   "cell_type": "code",
   "execution_count": 2,
   "id": "ambient-building",
   "metadata": {
    "execution": {
     "iopub.execute_input": "2021-06-12T07:01:38.085239Z",
     "iopub.status.busy": "2021-06-12T07:01:38.084259Z",
     "iopub.status.idle": "2021-06-12T07:01:38.115494Z",
     "shell.execute_reply": "2021-06-12T07:01:38.114894Z",
     "shell.execute_reply.started": "2021-06-12T06:56:47.938105Z"
    },
    "papermill": {
     "duration": 0.096064,
     "end_time": "2021-06-12T07:01:38.115650",
     "exception": false,
     "start_time": "2021-06-12T07:01:38.019586",
     "status": "completed"
    },
    "tags": []
   },
   "outputs": [],
   "source": [
    "training_data= pd.read_csv(\"/kaggle/input/titanic/train.csv\")\n",
    "testing_data=pd.read_csv(\"/kaggle/input/titanic/test.csv\")"
   ]
  },
  {
   "cell_type": "code",
   "execution_count": 3,
   "id": "fuzzy-bryan",
   "metadata": {
    "execution": {
     "iopub.execute_input": "2021-06-12T07:01:38.236284Z",
     "iopub.status.busy": "2021-06-12T07:01:38.235651Z",
     "iopub.status.idle": "2021-06-12T07:01:38.240423Z",
     "shell.execute_reply": "2021-06-12T07:01:38.239310Z",
     "shell.execute_reply.started": "2021-06-12T06:56:47.974876Z"
    },
    "papermill": {
     "duration": 0.067031,
     "end_time": "2021-06-12T07:01:38.240646",
     "exception": false,
     "start_time": "2021-06-12T07:01:38.173615",
     "status": "completed"
    },
    "tags": []
   },
   "outputs": [
    {
     "name": "stdout",
     "output_type": "stream",
     "text": [
      "(891, 12)\n",
      "(418, 11)\n"
     ]
    }
   ],
   "source": [
    "print(training_data.shape)\n",
    "print(testing_data.shape)"
   ]
  },
  {
   "cell_type": "markdown",
   "id": "everyday-cooking",
   "metadata": {
    "papermill": {
     "duration": 0.066491,
     "end_time": "2021-06-12T07:01:38.387346",
     "exception": false,
     "start_time": "2021-06-12T07:01:38.320855",
     "status": "completed"
    },
    "tags": []
   },
   "source": [
    "training data has more rows and (obviously a survived column)"
   ]
  },
  {
   "cell_type": "markdown",
   "id": "bored-aspect",
   "metadata": {
    "papermill": {
     "duration": 0.057736,
     "end_time": "2021-06-12T07:01:38.503385",
     "exception": false,
     "start_time": "2021-06-12T07:01:38.445649",
     "status": "completed"
    },
    "tags": []
   },
   "source": [
    "First I will explore and visualize my data to gain better insights"
   ]
  },
  {
   "cell_type": "code",
   "execution_count": 4,
   "id": "sublime-asian",
   "metadata": {
    "execution": {
     "iopub.execute_input": "2021-06-12T07:01:38.649871Z",
     "iopub.status.busy": "2021-06-12T07:01:38.635389Z",
     "iopub.status.idle": "2021-06-12T07:01:38.653680Z",
     "shell.execute_reply": "2021-06-12T07:01:38.654162Z",
     "shell.execute_reply.started": "2021-06-12T06:56:47.983391Z"
    },
    "papermill": {
     "duration": 0.091371,
     "end_time": "2021-06-12T07:01:38.654337",
     "exception": false,
     "start_time": "2021-06-12T07:01:38.562966",
     "status": "completed"
    },
    "tags": []
   },
   "outputs": [
    {
     "name": "stdout",
     "output_type": "stream",
     "text": [
      "<class 'pandas.core.frame.DataFrame'>\n",
      "RangeIndex: 891 entries, 0 to 890\n",
      "Data columns (total 12 columns):\n",
      " #   Column       Non-Null Count  Dtype  \n",
      "---  ------       --------------  -----  \n",
      " 0   PassengerId  891 non-null    int64  \n",
      " 1   Survived     891 non-null    int64  \n",
      " 2   Pclass       891 non-null    int64  \n",
      " 3   Name         891 non-null    object \n",
      " 4   Sex          891 non-null    object \n",
      " 5   Age          714 non-null    float64\n",
      " 6   SibSp        891 non-null    int64  \n",
      " 7   Parch        891 non-null    int64  \n",
      " 8   Ticket       891 non-null    object \n",
      " 9   Fare         891 non-null    float64\n",
      " 10  Cabin        204 non-null    object \n",
      " 11  Embarked     889 non-null    object \n",
      "dtypes: float64(2), int64(5), object(5)\n",
      "memory usage: 83.7+ KB\n"
     ]
    }
   ],
   "source": [
    "training_data.info()"
   ]
  },
  {
   "cell_type": "markdown",
   "id": "forced-wesley",
   "metadata": {
    "papermill": {
     "duration": 0.058752,
     "end_time": "2021-06-12T07:01:38.771173",
     "exception": false,
     "start_time": "2021-06-12T07:01:38.712421",
     "status": "completed"
    },
    "tags": []
   },
   "source": [
    "Note to self: cabin, age and embarked have null values.\n",
    "my data has numeric values as well as objects (Cabin, Embarked ,Ticket, Sex, Name)\n",
    "objects should be converted to numeric and missing values should be handled"
   ]
  },
  {
   "cell_type": "code",
   "execution_count": 5,
   "id": "uniform-force",
   "metadata": {
    "execution": {
     "iopub.execute_input": "2021-06-12T07:01:38.895412Z",
     "iopub.status.busy": "2021-06-12T07:01:38.894782Z",
     "iopub.status.idle": "2021-06-12T07:01:38.915019Z",
     "shell.execute_reply": "2021-06-12T07:01:38.914414Z",
     "shell.execute_reply.started": "2021-06-12T06:56:48.053929Z"
    },
    "papermill": {
     "duration": 0.085721,
     "end_time": "2021-06-12T07:01:38.915164",
     "exception": false,
     "start_time": "2021-06-12T07:01:38.829443",
     "status": "completed"
    },
    "tags": []
   },
   "outputs": [
    {
     "data": {
      "text/html": [
       "<div>\n",
       "<style scoped>\n",
       "    .dataframe tbody tr th:only-of-type {\n",
       "        vertical-align: middle;\n",
       "    }\n",
       "\n",
       "    .dataframe tbody tr th {\n",
       "        vertical-align: top;\n",
       "    }\n",
       "\n",
       "    .dataframe thead th {\n",
       "        text-align: right;\n",
       "    }\n",
       "</style>\n",
       "<table border=\"1\" class=\"dataframe\">\n",
       "  <thead>\n",
       "    <tr style=\"text-align: right;\">\n",
       "      <th></th>\n",
       "      <th>PassengerId</th>\n",
       "      <th>Survived</th>\n",
       "      <th>Pclass</th>\n",
       "      <th>Name</th>\n",
       "      <th>Sex</th>\n",
       "      <th>Age</th>\n",
       "      <th>SibSp</th>\n",
       "      <th>Parch</th>\n",
       "      <th>Ticket</th>\n",
       "      <th>Fare</th>\n",
       "      <th>Cabin</th>\n",
       "      <th>Embarked</th>\n",
       "    </tr>\n",
       "  </thead>\n",
       "  <tbody>\n",
       "    <tr>\n",
       "      <th>0</th>\n",
       "      <td>1</td>\n",
       "      <td>0</td>\n",
       "      <td>3</td>\n",
       "      <td>Braund, Mr. Owen Harris</td>\n",
       "      <td>male</td>\n",
       "      <td>22.0</td>\n",
       "      <td>1</td>\n",
       "      <td>0</td>\n",
       "      <td>A/5 21171</td>\n",
       "      <td>7.2500</td>\n",
       "      <td>NaN</td>\n",
       "      <td>S</td>\n",
       "    </tr>\n",
       "    <tr>\n",
       "      <th>1</th>\n",
       "      <td>2</td>\n",
       "      <td>1</td>\n",
       "      <td>1</td>\n",
       "      <td>Cumings, Mrs. John Bradley (Florence Briggs Th...</td>\n",
       "      <td>female</td>\n",
       "      <td>38.0</td>\n",
       "      <td>1</td>\n",
       "      <td>0</td>\n",
       "      <td>PC 17599</td>\n",
       "      <td>71.2833</td>\n",
       "      <td>C85</td>\n",
       "      <td>C</td>\n",
       "    </tr>\n",
       "    <tr>\n",
       "      <th>2</th>\n",
       "      <td>3</td>\n",
       "      <td>1</td>\n",
       "      <td>3</td>\n",
       "      <td>Heikkinen, Miss. Laina</td>\n",
       "      <td>female</td>\n",
       "      <td>26.0</td>\n",
       "      <td>0</td>\n",
       "      <td>0</td>\n",
       "      <td>STON/O2. 3101282</td>\n",
       "      <td>7.9250</td>\n",
       "      <td>NaN</td>\n",
       "      <td>S</td>\n",
       "    </tr>\n",
       "    <tr>\n",
       "      <th>3</th>\n",
       "      <td>4</td>\n",
       "      <td>1</td>\n",
       "      <td>1</td>\n",
       "      <td>Futrelle, Mrs. Jacques Heath (Lily May Peel)</td>\n",
       "      <td>female</td>\n",
       "      <td>35.0</td>\n",
       "      <td>1</td>\n",
       "      <td>0</td>\n",
       "      <td>113803</td>\n",
       "      <td>53.1000</td>\n",
       "      <td>C123</td>\n",
       "      <td>S</td>\n",
       "    </tr>\n",
       "    <tr>\n",
       "      <th>4</th>\n",
       "      <td>5</td>\n",
       "      <td>0</td>\n",
       "      <td>3</td>\n",
       "      <td>Allen, Mr. William Henry</td>\n",
       "      <td>male</td>\n",
       "      <td>35.0</td>\n",
       "      <td>0</td>\n",
       "      <td>0</td>\n",
       "      <td>373450</td>\n",
       "      <td>8.0500</td>\n",
       "      <td>NaN</td>\n",
       "      <td>S</td>\n",
       "    </tr>\n",
       "  </tbody>\n",
       "</table>\n",
       "</div>"
      ],
      "text/plain": [
       "   PassengerId  Survived  Pclass  \\\n",
       "0            1         0       3   \n",
       "1            2         1       1   \n",
       "2            3         1       3   \n",
       "3            4         1       1   \n",
       "4            5         0       3   \n",
       "\n",
       "                                                Name     Sex   Age  SibSp  \\\n",
       "0                            Braund, Mr. Owen Harris    male  22.0      1   \n",
       "1  Cumings, Mrs. John Bradley (Florence Briggs Th...  female  38.0      1   \n",
       "2                             Heikkinen, Miss. Laina  female  26.0      0   \n",
       "3       Futrelle, Mrs. Jacques Heath (Lily May Peel)  female  35.0      1   \n",
       "4                           Allen, Mr. William Henry    male  35.0      0   \n",
       "\n",
       "   Parch            Ticket     Fare Cabin Embarked  \n",
       "0      0         A/5 21171   7.2500   NaN        S  \n",
       "1      0          PC 17599  71.2833   C85        C  \n",
       "2      0  STON/O2. 3101282   7.9250   NaN        S  \n",
       "3      0            113803  53.1000  C123        S  \n",
       "4      0            373450   8.0500   NaN        S  "
      ]
     },
     "execution_count": 5,
     "metadata": {},
     "output_type": "execute_result"
    }
   ],
   "source": [
    "training_data.head()"
   ]
  },
  {
   "cell_type": "code",
   "execution_count": 6,
   "id": "bigger-telescope",
   "metadata": {
    "execution": {
     "iopub.execute_input": "2021-06-12T07:01:39.043156Z",
     "iopub.status.busy": "2021-06-12T07:01:39.042512Z",
     "iopub.status.idle": "2021-06-12T07:01:39.071140Z",
     "shell.execute_reply": "2021-06-12T07:01:39.071650Z",
     "shell.execute_reply.started": "2021-06-12T06:56:48.076416Z"
    },
    "papermill": {
     "duration": 0.096914,
     "end_time": "2021-06-12T07:01:39.071846",
     "exception": false,
     "start_time": "2021-06-12T07:01:38.974932",
     "status": "completed"
    },
    "tags": []
   },
   "outputs": [
    {
     "data": {
      "text/html": [
       "<div>\n",
       "<style scoped>\n",
       "    .dataframe tbody tr th:only-of-type {\n",
       "        vertical-align: middle;\n",
       "    }\n",
       "\n",
       "    .dataframe tbody tr th {\n",
       "        vertical-align: top;\n",
       "    }\n",
       "\n",
       "    .dataframe thead th {\n",
       "        text-align: right;\n",
       "    }\n",
       "</style>\n",
       "<table border=\"1\" class=\"dataframe\">\n",
       "  <thead>\n",
       "    <tr style=\"text-align: right;\">\n",
       "      <th></th>\n",
       "      <th>PassengerId</th>\n",
       "      <th>Survived</th>\n",
       "      <th>Pclass</th>\n",
       "      <th>Age</th>\n",
       "      <th>SibSp</th>\n",
       "      <th>Parch</th>\n",
       "      <th>Fare</th>\n",
       "    </tr>\n",
       "  </thead>\n",
       "  <tbody>\n",
       "    <tr>\n",
       "      <th>count</th>\n",
       "      <td>891.000000</td>\n",
       "      <td>891.000000</td>\n",
       "      <td>891.000000</td>\n",
       "      <td>714.000000</td>\n",
       "      <td>891.000000</td>\n",
       "      <td>891.000000</td>\n",
       "      <td>891.000000</td>\n",
       "    </tr>\n",
       "    <tr>\n",
       "      <th>mean</th>\n",
       "      <td>446.000000</td>\n",
       "      <td>0.383838</td>\n",
       "      <td>2.308642</td>\n",
       "      <td>29.699118</td>\n",
       "      <td>0.523008</td>\n",
       "      <td>0.381594</td>\n",
       "      <td>32.204208</td>\n",
       "    </tr>\n",
       "    <tr>\n",
       "      <th>std</th>\n",
       "      <td>257.353842</td>\n",
       "      <td>0.486592</td>\n",
       "      <td>0.836071</td>\n",
       "      <td>14.526497</td>\n",
       "      <td>1.102743</td>\n",
       "      <td>0.806057</td>\n",
       "      <td>49.693429</td>\n",
       "    </tr>\n",
       "    <tr>\n",
       "      <th>min</th>\n",
       "      <td>1.000000</td>\n",
       "      <td>0.000000</td>\n",
       "      <td>1.000000</td>\n",
       "      <td>0.420000</td>\n",
       "      <td>0.000000</td>\n",
       "      <td>0.000000</td>\n",
       "      <td>0.000000</td>\n",
       "    </tr>\n",
       "    <tr>\n",
       "      <th>25%</th>\n",
       "      <td>223.500000</td>\n",
       "      <td>0.000000</td>\n",
       "      <td>2.000000</td>\n",
       "      <td>20.125000</td>\n",
       "      <td>0.000000</td>\n",
       "      <td>0.000000</td>\n",
       "      <td>7.910400</td>\n",
       "    </tr>\n",
       "    <tr>\n",
       "      <th>50%</th>\n",
       "      <td>446.000000</td>\n",
       "      <td>0.000000</td>\n",
       "      <td>3.000000</td>\n",
       "      <td>28.000000</td>\n",
       "      <td>0.000000</td>\n",
       "      <td>0.000000</td>\n",
       "      <td>14.454200</td>\n",
       "    </tr>\n",
       "    <tr>\n",
       "      <th>75%</th>\n",
       "      <td>668.500000</td>\n",
       "      <td>1.000000</td>\n",
       "      <td>3.000000</td>\n",
       "      <td>38.000000</td>\n",
       "      <td>1.000000</td>\n",
       "      <td>0.000000</td>\n",
       "      <td>31.000000</td>\n",
       "    </tr>\n",
       "    <tr>\n",
       "      <th>max</th>\n",
       "      <td>891.000000</td>\n",
       "      <td>1.000000</td>\n",
       "      <td>3.000000</td>\n",
       "      <td>80.000000</td>\n",
       "      <td>8.000000</td>\n",
       "      <td>6.000000</td>\n",
       "      <td>512.329200</td>\n",
       "    </tr>\n",
       "  </tbody>\n",
       "</table>\n",
       "</div>"
      ],
      "text/plain": [
       "       PassengerId    Survived      Pclass         Age       SibSp  \\\n",
       "count   891.000000  891.000000  891.000000  714.000000  891.000000   \n",
       "mean    446.000000    0.383838    2.308642   29.699118    0.523008   \n",
       "std     257.353842    0.486592    0.836071   14.526497    1.102743   \n",
       "min       1.000000    0.000000    1.000000    0.420000    0.000000   \n",
       "25%     223.500000    0.000000    2.000000   20.125000    0.000000   \n",
       "50%     446.000000    0.000000    3.000000   28.000000    0.000000   \n",
       "75%     668.500000    1.000000    3.000000   38.000000    1.000000   \n",
       "max     891.000000    1.000000    3.000000   80.000000    8.000000   \n",
       "\n",
       "            Parch        Fare  \n",
       "count  891.000000  891.000000  \n",
       "mean     0.381594   32.204208  \n",
       "std      0.806057   49.693429  \n",
       "min      0.000000    0.000000  \n",
       "25%      0.000000    7.910400  \n",
       "50%      0.000000   14.454200  \n",
       "75%      0.000000   31.000000  \n",
       "max      6.000000  512.329200  "
      ]
     },
     "execution_count": 6,
     "metadata": {},
     "output_type": "execute_result"
    }
   ],
   "source": [
    "training_data.describe()"
   ]
  },
  {
   "cell_type": "code",
   "execution_count": 7,
   "id": "fresh-stylus",
   "metadata": {
    "execution": {
     "iopub.execute_input": "2021-06-12T07:01:39.196637Z",
     "iopub.status.busy": "2021-06-12T07:01:39.195990Z",
     "iopub.status.idle": "2021-06-12T07:01:39.342205Z",
     "shell.execute_reply": "2021-06-12T07:01:39.341577Z",
     "shell.execute_reply.started": "2021-06-12T06:56:48.129309Z"
    },
    "papermill": {
     "duration": 0.208616,
     "end_time": "2021-06-12T07:01:39.342361",
     "exception": false,
     "start_time": "2021-06-12T07:01:39.133745",
     "status": "completed"
    },
    "tags": []
   },
   "outputs": [
    {
     "data": {
      "text/plain": [
       "0    549\n",
       "1    342\n",
       "Name: Survived, dtype: int64"
      ]
     },
     "execution_count": 7,
     "metadata": {},
     "output_type": "execute_result"
    },
    {
     "data": {
      "image/png": "[encoded data removed]",
      "text/plain": [
       "<Figure size 432x288 with 1 Axes>"
      ]
     },
     "metadata": {
      "needs_background": "light"
     },
     "output_type": "display_data"
    }
   ],
   "source": [
    "sns.countplot(x=training_data.Survived)\n",
    "training_data['Survived'].value_counts()"
   ]
  },
  {
   "cell_type": "markdown",
   "id": "proud-bride",
   "metadata": {
    "papermill": {
     "duration": 0.060215,
     "end_time": "2021-06-12T07:01:39.463754",
     "exception": false,
     "start_time": "2021-06-12T07:01:39.403539",
     "status": "completed"
    },
    "tags": []
   },
   "source": [
    "Most passengers didn't survive"
   ]
  },
  {
   "cell_type": "code",
   "execution_count": 8,
   "id": "competitive-turkey",
   "metadata": {
    "execution": {
     "iopub.execute_input": "2021-06-12T07:01:39.595582Z",
     "iopub.status.busy": "2021-06-12T07:01:39.594557Z",
     "iopub.status.idle": "2021-06-12T07:01:39.599286Z",
     "shell.execute_reply": "2021-06-12T07:01:39.598804Z",
     "shell.execute_reply.started": "2021-06-12T06:56:48.259076Z"
    },
    "papermill": {
     "duration": 0.075288,
     "end_time": "2021-06-12T07:01:39.599423",
     "exception": false,
     "start_time": "2021-06-12T07:01:39.524135",
     "status": "completed"
    },
    "tags": []
   },
   "outputs": [
    {
     "name": "stdout",
     "output_type": "stream",
     "text": [
      "% of female who survived: 0.7420382165605095\n",
      "% of male who survived: 0.18890814558058924\n"
     ]
    }
   ],
   "source": [
    "female = training_data.loc[training_data.Sex == 'female'][\"Survived\"]\n",
    "rate_female = sum(female)/len(female)\n",
    "print(\"% of female who survived:\", rate_female)\n",
    "\n",
    "male = training_data.loc[training_data.Sex == 'male'][\"Survived\"]\n",
    "rate_male = sum(male)/len(male)\n",
    "print(\"% of male who survived:\", rate_male)"
   ]
  },
  {
   "cell_type": "code",
   "execution_count": 9,
   "id": "crucial-bride",
   "metadata": {
    "execution": {
     "iopub.execute_input": "2021-06-12T07:01:39.724443Z",
     "iopub.status.busy": "2021-06-12T07:01:39.723784Z",
     "iopub.status.idle": "2021-06-12T07:01:39.862832Z",
     "shell.execute_reply": "2021-06-12T07:01:39.862041Z",
     "shell.execute_reply.started": "2021-06-12T06:56:48.271558Z"
    },
    "papermill": {
     "duration": 0.202434,
     "end_time": "2021-06-12T07:01:39.863002",
     "exception": false,
     "start_time": "2021-06-12T07:01:39.660568",
     "status": "completed"
    },
    "tags": []
   },
   "outputs": [
    {
     "data": {
      "text/plain": [
       "male      577\n",
       "female    314\n",
       "Name: Sex, dtype: int64"
      ]
     },
     "execution_count": 9,
     "metadata": {},
     "output_type": "execute_result"
    },
    {
     "data": {
      "image/png": "[encoded data removed]",
      "text/plain": [
       "<Figure size 432x288 with 1 Axes>"
      ]
     },
     "metadata": {
      "needs_background": "light"
     },
     "output_type": "display_data"
    }
   ],
   "source": [
    "sns.countplot(x=training_data.Survived, hue=training_data.Sex)\n",
    "training_data['Sex'].value_counts()"
   ]
  },
  {
   "cell_type": "markdown",
   "id": "further-drinking",
   "metadata": {
    "papermill": {
     "duration": 0.061889,
     "end_time": "2021-06-12T07:01:39.991176",
     "exception": false,
     "start_time": "2021-06-12T07:01:39.929287",
     "status": "completed"
    },
    "tags": []
   },
   "source": [
    "females have higher survival rate,even though Most passengers were males."
   ]
  },
  {
   "cell_type": "code",
   "execution_count": 10,
   "id": "legitimate-packing",
   "metadata": {
    "execution": {
     "iopub.execute_input": "2021-06-12T07:01:40.124398Z",
     "iopub.status.busy": "2021-06-12T07:01:40.123727Z",
     "iopub.status.idle": "2021-06-12T07:01:40.153646Z",
     "shell.execute_reply": "2021-06-12T07:01:40.153100Z",
     "shell.execute_reply.started": "2021-06-12T06:56:48.430153Z"
    },
    "papermill": {
     "duration": 0.099131,
     "end_time": "2021-06-12T07:01:40.153814",
     "exception": false,
     "start_time": "2021-06-12T07:01:40.054683",
     "status": "completed"
    },
    "tags": []
   },
   "outputs": [
    {
     "name": "stdout",
     "output_type": "stream",
     "text": [
      "% of first_class who survived: 0.6296296296296297\n",
      "% of second_class who survived: 0.47282608695652173\n",
      "% of third_class who survived: 0.24236252545824846\n"
     ]
    }
   ],
   "source": [
    "first_class = training_data.loc[training_data.Pclass == 1][\"Survived\"]\n",
    "rate_first_class = sum(first_class)/len(first_class)\n",
    "print(\"% of first_class who survived:\", rate_first_class)\n",
    "\n",
    "second_class = training_data.loc[training_data.Pclass == 2][\"Survived\"]\n",
    "rate_second_class = sum(second_class)/len(second_class)\n",
    "print(\"% of second_class who survived:\", rate_second_class)\n",
    "\n",
    "third_class = training_data.loc[training_data.Pclass == 3][\"Survived\"]\n",
    "rate_third_class = sum(third_class)/len(third_class)\n",
    "print(\"% of third_class who survived:\", rate_third_class)"
   ]
  },
  {
   "cell_type": "code",
   "execution_count": 11,
   "id": "constant-breed",
   "metadata": {
    "execution": {
     "iopub.execute_input": "2021-06-12T07:01:40.285585Z",
     "iopub.status.busy": "2021-06-12T07:01:40.284073Z",
     "iopub.status.idle": "2021-06-12T07:01:40.445716Z",
     "shell.execute_reply": "2021-06-12T07:01:40.445072Z",
     "shell.execute_reply.started": "2021-06-12T06:56:48.445380Z"
    },
    "papermill": {
     "duration": 0.229364,
     "end_time": "2021-06-12T07:01:40.445866",
     "exception": false,
     "start_time": "2021-06-12T07:01:40.216502",
     "status": "completed"
    },
    "tags": []
   },
   "outputs": [
    {
     "data": {
      "text/plain": [
       "3    491\n",
       "1    216\n",
       "2    184\n",
       "Name: Pclass, dtype: int64"
      ]
     },
     "execution_count": 11,
     "metadata": {},
     "output_type": "execute_result"
    },
    {
     "data": {
      "image/png": "[encoded data removed]",
      "text/plain": [
       "<Figure size 432x288 with 1 Axes>"
      ]
     },
     "metadata": {
      "needs_background": "light"
     },
     "output_type": "display_data"
    }
   ],
   "source": [
    "sns.countplot(x=training_data.Survived, hue=training_data.Pclass)\n",
    "training_data['Pclass'].value_counts()"
   ]
  },
  {
   "cell_type": "markdown",
   "id": "incident-legend",
   "metadata": {
    "papermill": {
     "duration": 0.063795,
     "end_time": "2021-06-12T07:01:40.573651",
     "exception": false,
     "start_time": "2021-06-12T07:01:40.509856",
     "status": "completed"
    },
    "tags": []
   },
   "source": [
    "Even though most passengers were third class they had the lowest chance of survival, 1st class has highest survival rate."
   ]
  },
  {
   "cell_type": "code",
   "execution_count": 12,
   "id": "inappropriate-cloud",
   "metadata": {
    "execution": {
     "iopub.execute_input": "2021-06-12T07:01:40.708864Z",
     "iopub.status.busy": "2021-06-12T07:01:40.708155Z",
     "iopub.status.idle": "2021-06-12T07:01:40.716137Z",
     "shell.execute_reply": "2021-06-12T07:01:40.716575Z",
     "shell.execute_reply.started": "2021-06-12T06:56:48.618369Z"
    },
    "papermill": {
     "duration": 0.079759,
     "end_time": "2021-06-12T07:01:40.716768",
     "exception": false,
     "start_time": "2021-06-12T07:01:40.637009",
     "status": "completed"
    },
    "tags": []
   },
   "outputs": [
    {
     "name": "stdout",
     "output_type": "stream",
     "text": [
      "% of passengers who survived and embarked from s: 0.33695652173913043\n",
      "% of passengers who survived and embarked from q: 0.38961038961038963\n",
      "% of passengers who survived and embarked from c: 0.5535714285714286\n"
     ]
    }
   ],
   "source": [
    "Embarked_s = training_data.loc[training_data.Embarked == 'S'][\"Survived\"]\n",
    "rate_Embarked_s = sum(Embarked_s)/len(Embarked_s)\n",
    "print(\"% of passengers who survived and embarked from s:\", rate_Embarked_s)\n",
    "\n",
    "Embarked_q = training_data.loc[training_data.Embarked == 'Q'][\"Survived\"]\n",
    "rate_Embarked_q = sum(Embarked_q)/len(Embarked_q)\n",
    "print(\"% of passengers who survived and embarked from q:\", rate_Embarked_q)\n",
    "\n",
    "Embarked_c = training_data.loc[training_data.Embarked == 'C'][\"Survived\"]\n",
    "rate_Embarked_c = sum(Embarked_c)/len(Embarked_c)\n",
    "print(\"% of passengers who survived and embarked from c:\", rate_Embarked_c)"
   ]
  },
  {
   "cell_type": "code",
   "execution_count": 13,
   "id": "personalized-apparel",
   "metadata": {
    "execution": {
     "iopub.execute_input": "2021-06-12T07:01:40.853123Z",
     "iopub.status.busy": "2021-06-12T07:01:40.851301Z",
     "iopub.status.idle": "2021-06-12T07:01:41.121310Z",
     "shell.execute_reply": "2021-06-12T07:01:41.120667Z",
     "shell.execute_reply.started": "2021-06-12T06:56:48.633302Z"
    },
    "papermill": {
     "duration": 0.340549,
     "end_time": "2021-06-12T07:01:41.121448",
     "exception": false,
     "start_time": "2021-06-12T07:01:40.780899",
     "status": "completed"
    },
    "tags": []
   },
   "outputs": [
    {
     "data": {
      "text/plain": [
       "S    644\n",
       "C    168\n",
       "Q     77\n",
       "Name: Embarked, dtype: int64"
      ]
     },
     "execution_count": 13,
     "metadata": {},
     "output_type": "execute_result"
    },
    {
     "data": {
      "image/png": "[encoded data removed]",
      "text/plain": [
       "<Figure size 432x288 with 1 Axes>"
      ]
     },
     "metadata": {
      "needs_background": "light"
     },
     "output_type": "display_data"
    }
   ],
   "source": [
    "sns.countplot(x=training_data.Survived, hue=training_data.Embarked)\n",
    "training_data['Embarked'].value_counts()"
   ]
  },
  {
   "cell_type": "markdown",
   "id": "sized-aviation",
   "metadata": {
    "papermill": {
     "duration": 0.064052,
     "end_time": "2021-06-12T07:01:41.250211",
     "exception": false,
     "start_time": "2021-06-12T07:01:41.186159",
     "status": "completed"
    },
    "tags": []
   },
   "source": [
    "c has highest survival rate"
   ]
  },
  {
   "cell_type": "code",
   "execution_count": 14,
   "id": "jewish-notebook",
   "metadata": {
    "execution": {
     "iopub.execute_input": "2021-06-12T07:01:41.388667Z",
     "iopub.status.busy": "2021-06-12T07:01:41.387983Z",
     "iopub.status.idle": "2021-06-12T07:01:41.392961Z",
     "shell.execute_reply": "2021-06-12T07:01:41.392316Z",
     "shell.execute_reply.started": "2021-06-12T06:56:48.813054Z"
    },
    "papermill": {
     "duration": 0.078593,
     "end_time": "2021-06-12T07:01:41.393098",
     "exception": false,
     "start_time": "2021-06-12T07:01:41.314505",
     "status": "completed"
    },
    "tags": []
   },
   "outputs": [
    {
     "name": "stdout",
     "output_type": "stream",
     "text": [
      "% of Age_below who survived: 0.40625\n",
      "% of Age_above who survived: 0.40606060606060607\n"
     ]
    }
   ],
   "source": [
    "Age_below = training_data.loc[training_data.Age<=training_data.Age.mean()][\"Survived\"]\n",
    "rate_Age_below = sum(Age_below)/len(Age_below)\n",
    "print(\"% of Age_below who survived:\", rate_Age_below)\n",
    "\n",
    "Age_above = training_data.loc[training_data.Age>training_data.Age.mean()][\"Survived\"]\n",
    "rate_Age_above = sum(Age_above)/len(Age_above)\n",
    "print(\"% of Age_above who survived:\", rate_Age_above)"
   ]
  },
  {
   "cell_type": "code",
   "execution_count": 15,
   "id": "pursuant-sword",
   "metadata": {
    "execution": {
     "iopub.execute_input": "2021-06-12T07:01:41.552355Z",
     "iopub.status.busy": "2021-06-12T07:01:41.551305Z",
     "iopub.status.idle": "2021-06-12T07:01:41.693301Z",
     "shell.execute_reply": "2021-06-12T07:01:41.692703Z",
     "shell.execute_reply.started": "2021-06-12T06:56:48.826173Z"
    },
    "papermill": {
     "duration": 0.23558,
     "end_time": "2021-06-12T07:01:41.693440",
     "exception": false,
     "start_time": "2021-06-12T07:01:41.457860",
     "status": "completed"
    },
    "tags": []
   },
   "outputs": [
    {
     "data": {
      "text/plain": [
       "(array([ 54.,  46., 177., 169., 118.,  70.,  45.,  24.,   9.,   2.]),\n",
       " array([ 0.42 ,  8.378, 16.336, 24.294, 32.252, 40.21 , 48.168, 56.126,\n",
       "        64.084, 72.042, 80.   ]),\n",
       " <BarContainer object of 10 artists>)"
      ]
     },
     "execution_count": 15,
     "metadata": {},
     "output_type": "execute_result"
    },
    {
     "data": {
      "image/png": "[encoded data removed]",
      "text/plain": [
       "<Figure size 432x288 with 1 Axes>"
      ]
     },
     "metadata": {
      "needs_background": "light"
     },
     "output_type": "display_data"
    }
   ],
   "source": [
    "plt.hist(training_data['Age'])"
   ]
  },
  {
   "cell_type": "markdown",
   "id": "anticipated-helicopter",
   "metadata": {
    "papermill": {
     "duration": 0.065609,
     "end_time": "2021-06-12T07:01:41.824443",
     "exception": false,
     "start_time": "2021-06-12T07:01:41.758834",
     "status": "completed"
    },
    "tags": []
   },
   "source": [
    "Right skewed, 80 outlier?"
   ]
  },
  {
   "cell_type": "code",
   "execution_count": 16,
   "id": "blank-ivory",
   "metadata": {
    "execution": {
     "iopub.execute_input": "2021-06-12T07:01:41.963535Z",
     "iopub.status.busy": "2021-06-12T07:01:41.962863Z",
     "iopub.status.idle": "2021-06-12T07:01:41.974413Z",
     "shell.execute_reply": "2021-06-12T07:01:41.973702Z",
     "shell.execute_reply.started": "2021-06-12T06:56:49.008530Z"
    },
    "papermill": {
     "duration": 0.08485,
     "end_time": "2021-06-12T07:01:41.974603",
     "exception": false,
     "start_time": "2021-06-12T07:01:41.889753",
     "status": "completed"
    },
    "tags": []
   },
   "outputs": [
    {
     "name": "stdout",
     "output_type": "stream",
     "text": [
      "% of passengers who had 8 siblings and survived: 0.0\n",
      "% of passengers who had  0  siblings and survived: 0.34539473684210525\n",
      "% of passengers who had  1  siblings and survived: 0.5358851674641149\n",
      "% of passengers who had  2  siblings and survived: 0.4642857142857143\n",
      "% of passengers who had  3  siblings and survived: 0.25\n",
      "% of passengers who had  4  siblings and survived: 0.16666666666666666\n"
     ]
    }
   ],
   "source": [
    "#siblings range from 0 to 8, but discrete values are 0 1 2 3 4 5 8\n",
    "#I will just divide it into a for loop + 1 sequential execution\n",
    "sib = training_data.loc[training_data.SibSp == 8][\"Survived\"]\n",
    "rate_sib = sum(sib)/len(sib)\n",
    "print(\"% of passengers who had 8 siblings and survived:\", rate_sib)\n",
    "for i in range (0,5):\n",
    "    sib = training_data.loc[training_data.SibSp == i][\"Survived\"]\n",
    "    rate_sib = sum(sib)/len(sib)\n",
    "    print(\"% of passengers who had \", i, \" siblings and survived:\", rate_sib)"
   ]
  },
  {
   "cell_type": "code",
   "execution_count": 17,
   "id": "understood-victorian",
   "metadata": {
    "execution": {
     "iopub.execute_input": "2021-06-12T07:01:42.115073Z",
     "iopub.status.busy": "2021-06-12T07:01:42.114063Z",
     "iopub.status.idle": "2021-06-12T07:01:42.323703Z",
     "shell.execute_reply": "2021-06-12T07:01:42.324166Z",
     "shell.execute_reply.started": "2021-06-12T06:56:49.032023Z"
    },
    "papermill": {
     "duration": 0.28235,
     "end_time": "2021-06-12T07:01:42.324338",
     "exception": false,
     "start_time": "2021-06-12T07:01:42.041988",
     "status": "completed"
    },
    "tags": []
   },
   "outputs": [
    {
     "data": {
      "text/plain": [
       "0    608\n",
       "1    209\n",
       "2     28\n",
       "4     18\n",
       "3     16\n",
       "8      7\n",
       "5      5\n",
       "Name: SibSp, dtype: int64"
      ]
     },
     "execution_count": 17,
     "metadata": {},
     "output_type": "execute_result"
    },
    {
     "data": {
      "image/png": "[encoded data removed]",
      "text/plain": [
       "<Figure size 432x288 with 1 Axes>"
      ]
     },
     "metadata": {
      "needs_background": "light"
     },
     "output_type": "display_data"
    }
   ],
   "source": [
    "sns.countplot(x=training_data.Survived, hue=training_data.SibSp)\n",
    "training_data['SibSp'].value_counts()"
   ]
  },
  {
   "cell_type": "code",
   "execution_count": 18,
   "id": "substantial-ancient",
   "metadata": {
    "execution": {
     "iopub.execute_input": "2021-06-12T07:01:42.463716Z",
     "iopub.status.busy": "2021-06-12T07:01:42.462753Z",
     "iopub.status.idle": "2021-06-12T07:01:42.477851Z",
     "shell.execute_reply": "2021-06-12T07:01:42.476822Z",
     "shell.execute_reply.started": "2021-06-12T06:56:49.259523Z"
    },
    "papermill": {
     "duration": 0.087371,
     "end_time": "2021-06-12T07:01:42.478027",
     "exception": false,
     "start_time": "2021-06-12T07:01:42.390656",
     "status": "completed"
    },
    "tags": []
   },
   "outputs": [
    {
     "name": "stdout",
     "output_type": "stream",
     "text": [
      "% of passengers who had  0  parents/children that survived: 0.34365781710914456\n",
      "% of passengers who had  1  parents/children that survived: 0.5508474576271186\n",
      "% of passengers who had  2  parents/children that survived: 0.5\n",
      "% of passengers who had  3  parents/children that survived: 0.6\n",
      "% of passengers who had  4  parents/children that survived: 0.0\n",
      "% of passengers who had  5  parents/children that survived: 0.2\n",
      "% of passengers who had  6  parents/children that survived: 0.0\n"
     ]
    }
   ],
   "source": [
    "for i in range (0,7):\n",
    "    parents = training_data.loc[training_data.Parch == i][\"Survived\"]\n",
    "    rate_p = sum( parents)/len( parents)\n",
    "    print(\"% of passengers who had \", i, \" parents/children that survived:\", rate_p)"
   ]
  },
  {
   "cell_type": "code",
   "execution_count": 19,
   "id": "median-citation",
   "metadata": {
    "execution": {
     "iopub.execute_input": "2021-06-12T07:01:42.620443Z",
     "iopub.status.busy": "2021-06-12T07:01:42.619393Z",
     "iopub.status.idle": "2021-06-12T07:01:42.814916Z",
     "shell.execute_reply": "2021-06-12T07:01:42.813842Z",
     "shell.execute_reply.started": "2021-06-12T06:56:49.278923Z"
    },
    "papermill": {
     "duration": 0.269095,
     "end_time": "2021-06-12T07:01:42.815065",
     "exception": false,
     "start_time": "2021-06-12T07:01:42.545970",
     "status": "completed"
    },
    "tags": []
   },
   "outputs": [
    {
     "data": {
      "text/plain": [
       "0    678\n",
       "1    118\n",
       "2     80\n",
       "3      5\n",
       "5      5\n",
       "4      4\n",
       "6      1\n",
       "Name: Parch, dtype: int64"
      ]
     },
     "execution_count": 19,
     "metadata": {},
     "output_type": "execute_result"
    },
    {
     "data": {
      "image/png": "[encoded data removed]",
      "text/plain": [
       "<Figure size 432x288 with 1 Axes>"
      ]
     },
     "metadata": {
      "needs_background": "light"
     },
     "output_type": "display_data"
    }
   ],
   "source": [
    "sns.countplot(x=training_data.Survived, hue=training_data.Parch)\n",
    "training_data['Parch'].value_counts()"
   ]
  },
  {
   "cell_type": "code",
   "execution_count": 20,
   "id": "catholic-wallace",
   "metadata": {
    "execution": {
     "iopub.execute_input": "2021-06-12T07:01:42.958886Z",
     "iopub.status.busy": "2021-06-12T07:01:42.958144Z",
     "iopub.status.idle": "2021-06-12T07:01:42.961159Z",
     "shell.execute_reply": "2021-06-12T07:01:42.961745Z",
     "shell.execute_reply.started": "2021-06-12T06:56:49.492208Z"
    },
    "papermill": {
     "duration": 0.078954,
     "end_time": "2021-06-12T07:01:42.961916",
     "exception": false,
     "start_time": "2021-06-12T07:01:42.882962",
     "status": "completed"
    },
    "tags": []
   },
   "outputs": [
    {
     "data": {
      "text/plain": [
       "0       7.2500\n",
       "1      71.2833\n",
       "2       7.9250\n",
       "3      53.1000\n",
       "4       8.0500\n",
       "        ...   \n",
       "886    13.0000\n",
       "887    30.0000\n",
       "888    23.4500\n",
       "889    30.0000\n",
       "890     7.7500\n",
       "Name: Fare, Length: 891, dtype: float64"
      ]
     },
     "execution_count": 20,
     "metadata": {},
     "output_type": "execute_result"
    }
   ],
   "source": [
    "training_data.Fare"
   ]
  },
  {
   "cell_type": "code",
   "execution_count": 21,
   "id": "related-cheese",
   "metadata": {
    "execution": {
     "iopub.execute_input": "2021-06-12T07:01:43.104033Z",
     "iopub.status.busy": "2021-06-12T07:01:43.103344Z",
     "iopub.status.idle": "2021-06-12T07:01:43.270660Z",
     "shell.execute_reply": "2021-06-12T07:01:43.270075Z",
     "shell.execute_reply.started": "2021-06-12T06:56:49.502639Z"
    },
    "papermill": {
     "duration": 0.239556,
     "end_time": "2021-06-12T07:01:43.270806",
     "exception": false,
     "start_time": "2021-06-12T07:01:43.031250",
     "status": "completed"
    },
    "tags": []
   },
   "outputs": [
    {
     "data": {
      "text/plain": [
       "<matplotlib.collections.PathCollection at 0x7f93f657c110>"
      ]
     },
     "execution_count": 21,
     "metadata": {},
     "output_type": "execute_result"
    },
    {
     "data": {
      "image/png": "[encoded data removed]",
      "text/plain": [
       "<Figure size 432x288 with 1 Axes>"
      ]
     },
     "metadata": {
      "needs_background": "light"
     },
     "output_type": "display_data"
    }
   ],
   "source": [
    "plt.scatter(training_data.Pclass,training_data.Fare)"
   ]
  },
  {
   "cell_type": "markdown",
   "id": "vocational-freedom",
   "metadata": {
    "papermill": {
     "duration": 0.072343,
     "end_time": "2021-06-12T07:01:43.414539",
     "exception": false,
     "start_time": "2021-06-12T07:01:43.342196",
     "status": "completed"
    },
    "tags": []
   },
   "source": [
    "low fare doesn't essentially mean low class; however, high fare indicates first class.\n",
    "class 2 and 3 have very close fares"
   ]
  },
  {
   "cell_type": "code",
   "execution_count": 22,
   "id": "sublime-romantic",
   "metadata": {
    "execution": {
     "iopub.execute_input": "2021-06-12T07:01:43.558242Z",
     "iopub.status.busy": "2021-06-12T07:01:43.557267Z",
     "iopub.status.idle": "2021-06-12T07:01:43.587677Z",
     "shell.execute_reply": "2021-06-12T07:01:43.588167Z",
     "shell.execute_reply.started": "2021-06-12T06:56:49.672588Z"
    },
    "papermill": {
     "duration": 0.103807,
     "end_time": "2021-06-12T07:01:43.588356",
     "exception": false,
     "start_time": "2021-06-12T07:01:43.484549",
     "status": "completed"
    },
    "tags": []
   },
   "outputs": [
    {
     "data": {
      "text/html": [
       "<div>\n",
       "<style scoped>\n",
       "    .dataframe tbody tr th:only-of-type {\n",
       "        vertical-align: middle;\n",
       "    }\n",
       "\n",
       "    .dataframe tbody tr th {\n",
       "        vertical-align: top;\n",
       "    }\n",
       "\n",
       "    .dataframe thead th {\n",
       "        text-align: right;\n",
       "    }\n",
       "</style>\n",
       "<table border=\"1\" class=\"dataframe\">\n",
       "  <thead>\n",
       "    <tr style=\"text-align: right;\">\n",
       "      <th></th>\n",
       "      <th>PassengerId</th>\n",
       "      <th>Survived</th>\n",
       "      <th>Pclass</th>\n",
       "      <th>Age</th>\n",
       "      <th>SibSp</th>\n",
       "      <th>Parch</th>\n",
       "      <th>Fare</th>\n",
       "    </tr>\n",
       "  </thead>\n",
       "  <tbody>\n",
       "    <tr>\n",
       "      <th>PassengerId</th>\n",
       "      <td>1.000000</td>\n",
       "      <td>-0.004090</td>\n",
       "      <td>-0.026824</td>\n",
       "      <td>0.027542</td>\n",
       "      <td>-0.048394</td>\n",
       "      <td>0.000798</td>\n",
       "      <td>-0.008921</td>\n",
       "    </tr>\n",
       "    <tr>\n",
       "      <th>Survived</th>\n",
       "      <td>-0.004090</td>\n",
       "      <td>1.000000</td>\n",
       "      <td>-0.323533</td>\n",
       "      <td>-0.043385</td>\n",
       "      <td>0.085915</td>\n",
       "      <td>0.133933</td>\n",
       "      <td>0.266229</td>\n",
       "    </tr>\n",
       "    <tr>\n",
       "      <th>Pclass</th>\n",
       "      <td>-0.026824</td>\n",
       "      <td>-0.323533</td>\n",
       "      <td>1.000000</td>\n",
       "      <td>-0.286081</td>\n",
       "      <td>-0.039552</td>\n",
       "      <td>-0.021019</td>\n",
       "      <td>-0.573531</td>\n",
       "    </tr>\n",
       "    <tr>\n",
       "      <th>Age</th>\n",
       "      <td>0.027542</td>\n",
       "      <td>-0.043385</td>\n",
       "      <td>-0.286081</td>\n",
       "      <td>1.000000</td>\n",
       "      <td>-0.142746</td>\n",
       "      <td>-0.200112</td>\n",
       "      <td>0.093249</td>\n",
       "    </tr>\n",
       "    <tr>\n",
       "      <th>SibSp</th>\n",
       "      <td>-0.048394</td>\n",
       "      <td>0.085915</td>\n",
       "      <td>-0.039552</td>\n",
       "      <td>-0.142746</td>\n",
       "      <td>1.000000</td>\n",
       "      <td>0.425241</td>\n",
       "      <td>0.358262</td>\n",
       "    </tr>\n",
       "    <tr>\n",
       "      <th>Parch</th>\n",
       "      <td>0.000798</td>\n",
       "      <td>0.133933</td>\n",
       "      <td>-0.021019</td>\n",
       "      <td>-0.200112</td>\n",
       "      <td>0.425241</td>\n",
       "      <td>1.000000</td>\n",
       "      <td>0.330360</td>\n",
       "    </tr>\n",
       "    <tr>\n",
       "      <th>Fare</th>\n",
       "      <td>-0.008921</td>\n",
       "      <td>0.266229</td>\n",
       "      <td>-0.573531</td>\n",
       "      <td>0.093249</td>\n",
       "      <td>0.358262</td>\n",
       "      <td>0.330360</td>\n",
       "      <td>1.000000</td>\n",
       "    </tr>\n",
       "  </tbody>\n",
       "</table>\n",
       "</div>"
      ],
      "text/plain": [
       "             PassengerId  Survived    Pclass       Age     SibSp     Parch  \\\n",
       "PassengerId     1.000000 -0.004090 -0.026824  0.027542 -0.048394  0.000798   \n",
       "Survived       -0.004090  1.000000 -0.323533 -0.043385  0.085915  0.133933   \n",
       "Pclass         -0.026824 -0.323533  1.000000 -0.286081 -0.039552 -0.021019   \n",
       "Age             0.027542 -0.043385 -0.286081  1.000000 -0.142746 -0.200112   \n",
       "SibSp          -0.048394  0.085915 -0.039552 -0.142746  1.000000  0.425241   \n",
       "Parch           0.000798  0.133933 -0.021019 -0.200112  0.425241  1.000000   \n",
       "Fare           -0.008921  0.266229 -0.573531  0.093249  0.358262  0.330360   \n",
       "\n",
       "                 Fare  \n",
       "PassengerId -0.008921  \n",
       "Survived     0.266229  \n",
       "Pclass      -0.573531  \n",
       "Age          0.093249  \n",
       "SibSp        0.358262  \n",
       "Parch        0.330360  \n",
       "Fare         1.000000  "
      ]
     },
     "execution_count": 22,
     "metadata": {},
     "output_type": "execute_result"
    }
   ],
   "source": [
    "training_data.corr(method ='kendall')"
   ]
  },
  {
   "cell_type": "markdown",
   "id": "linear-infection",
   "metadata": {
    "papermill": {
     "duration": 0.070196,
     "end_time": "2021-06-12T07:01:43.729388",
     "exception": false,
     "start_time": "2021-06-12T07:01:43.659192",
     "status": "completed"
    },
    "tags": []
   },
   "source": [
    "According to correlation strength with survived;\n",
    "Pclass,Fare,Parch,SibSp,Age"
   ]
  },
  {
   "cell_type": "markdown",
   "id": "catholic-grove",
   "metadata": {
    "papermill": {
     "duration": 0.070381,
     "end_time": "2021-06-12T07:01:43.869807",
     "exception": false,
     "start_time": "2021-06-12T07:01:43.799426",
     "status": "completed"
    },
    "tags": []
   },
   "source": [
    "I don't see any significance to Name(unless I exclude title/feauture engineering), ticket"
   ]
  },
  {
   "cell_type": "markdown",
   "id": "textile-union",
   "metadata": {
    "papermill": {
     "duration": 0.070564,
     "end_time": "2021-06-12T07:01:44.011092",
     "exception": false,
     "start_time": "2021-06-12T07:01:43.940528",
     "status": "completed"
    },
    "tags": []
   },
   "source": [
    "Now I will preprocess/clean my data"
   ]
  },
  {
   "cell_type": "markdown",
   "id": "second-lending",
   "metadata": {
    "papermill": {
     "duration": 0.072495,
     "end_time": "2021-06-12T07:01:44.155882",
     "exception": false,
     "start_time": "2021-06-12T07:01:44.083387",
     "status": "completed"
    },
    "tags": []
   },
   "source": [
    "Missing values can be non-existent or missing. \n",
    "Age--> is useful in pattern finding so I will have to fill it.\n",
    "Embarked--> contains only 2 null values; \n",
    "Cabin has the most missing values, most probably it I will not consider it."
   ]
  },
  {
   "cell_type": "code",
   "execution_count": 23,
   "id": "durable-index",
   "metadata": {
    "execution": {
     "iopub.execute_input": "2021-06-12T07:01:44.304008Z",
     "iopub.status.busy": "2021-06-12T07:01:44.301195Z",
     "iopub.status.idle": "2021-06-12T07:01:44.306654Z",
     "shell.execute_reply": "2021-06-12T07:01:44.307147Z",
     "shell.execute_reply.started": "2021-06-12T06:56:49.704410Z"
    },
    "papermill": {
     "duration": 0.081511,
     "end_time": "2021-06-12T07:01:44.307315",
     "exception": false,
     "start_time": "2021-06-12T07:01:44.225804",
     "status": "completed"
    },
    "tags": []
   },
   "outputs": [
    {
     "data": {
      "text/plain": [
       "0"
      ]
     },
     "execution_count": 23,
     "metadata": {},
     "output_type": "execute_result"
    }
   ],
   "source": [
    "training_data['Age'].fillna(training_data['Age'].median(), inplace=True)\n",
    "missing_values_count = training_data['Age'].isnull().sum()\n",
    "missing_values_count"
   ]
  },
  {
   "cell_type": "markdown",
   "id": "polished-piano",
   "metadata": {
    "papermill": {
     "duration": 0.074022,
     "end_time": "2021-06-12T07:01:44.452173",
     "exception": false,
     "start_time": "2021-06-12T07:01:44.378151",
     "status": "completed"
    },
    "tags": []
   },
   "source": [
    "fill in missing values of age with median"
   ]
  },
  {
   "cell_type": "code",
   "execution_count": 24,
   "id": "wound-heath",
   "metadata": {
    "execution": {
     "iopub.execute_input": "2021-06-12T07:01:44.596972Z",
     "iopub.status.busy": "2021-06-12T07:01:44.596334Z",
     "iopub.status.idle": "2021-06-12T07:01:44.603737Z",
     "shell.execute_reply": "2021-06-12T07:01:44.604176Z",
     "shell.execute_reply.started": "2021-06-12T06:56:49.714427Z"
    },
    "papermill": {
     "duration": 0.081434,
     "end_time": "2021-06-12T07:01:44.604356",
     "exception": false,
     "start_time": "2021-06-12T07:01:44.522922",
     "status": "completed"
    },
    "tags": []
   },
   "outputs": [
    {
     "data": {
      "text/plain": [
       "0"
      ]
     },
     "execution_count": 24,
     "metadata": {},
     "output_type": "execute_result"
    }
   ],
   "source": [
    "training_data['Embarked'].fillna(training_data['Embarked'].value_counts().idxmax(), inplace=True)\n",
    "missing_values_count = training_data['Embarked'].isnull().sum()\n",
    "missing_values_count"
   ]
  },
  {
   "cell_type": "markdown",
   "id": "rolled-minority",
   "metadata": {
    "papermill": {
     "duration": 0.07134,
     "end_time": "2021-06-12T07:01:44.746581",
     "exception": false,
     "start_time": "2021-06-12T07:01:44.675241",
     "status": "completed"
    },
    "tags": []
   },
   "source": [
    "fill in missing values of age with mode"
   ]
  },
  {
   "cell_type": "code",
   "execution_count": 25,
   "id": "signed-server",
   "metadata": {
    "execution": {
     "iopub.execute_input": "2021-06-12T07:01:44.893559Z",
     "iopub.status.busy": "2021-06-12T07:01:44.892927Z",
     "iopub.status.idle": "2021-06-12T07:01:44.898891Z",
     "shell.execute_reply": "2021-06-12T07:01:44.898223Z",
     "shell.execute_reply.started": "2021-06-12T06:56:49.733045Z"
    },
    "papermill": {
     "duration": 0.080543,
     "end_time": "2021-06-12T07:01:44.899037",
     "exception": false,
     "start_time": "2021-06-12T07:01:44.818494",
     "status": "completed"
    },
    "tags": []
   },
   "outputs": [
    {
     "data": {
      "text/plain": [
       "148"
      ]
     },
     "execution_count": 25,
     "metadata": {},
     "output_type": "execute_result"
    }
   ],
   "source": [
    "len(training_data['Cabin'].unique())"
   ]
  },
  {
   "cell_type": "markdown",
   "id": "hidden-compiler",
   "metadata": {
    "papermill": {
     "duration": 0.071379,
     "end_time": "2021-06-12T07:01:45.042529",
     "exception": false,
     "start_time": "2021-06-12T07:01:44.971150",
     "status": "completed"
    },
    "tags": []
   },
   "source": [
    "891-687=204 out of which 148 are unique\n",
    "i will assume this feature doesn't contribute much to finding a pattern"
   ]
  },
  {
   "cell_type": "code",
   "execution_count": 26,
   "id": "enabling-memphis",
   "metadata": {
    "execution": {
     "iopub.execute_input": "2021-06-12T07:01:45.197330Z",
     "iopub.status.busy": "2021-06-12T07:01:45.196430Z",
     "iopub.status.idle": "2021-06-12T07:01:45.201363Z",
     "shell.execute_reply": "2021-06-12T07:01:45.201903Z",
     "shell.execute_reply.started": "2021-06-12T06:56:49.747622Z"
    },
    "papermill": {
     "duration": 0.088039,
     "end_time": "2021-06-12T07:01:45.202083",
     "exception": false,
     "start_time": "2021-06-12T07:01:45.114044",
     "status": "completed"
    },
    "tags": []
   },
   "outputs": [
    {
     "data": {
      "text/plain": [
       "PassengerId    0\n",
       "Survived       0\n",
       "Pclass         0\n",
       "Name           0\n",
       "Sex            0\n",
       "Age            0\n",
       "SibSp          0\n",
       "Parch          0\n",
       "Ticket         0\n",
       "Fare           0\n",
       "Embarked       0\n",
       "dtype: int64"
      ]
     },
     "execution_count": 26,
     "metadata": {},
     "output_type": "execute_result"
    }
   ],
   "source": [
    "training_data = training_data.drop(columns=\"Cabin\")\n",
    "missing_values_count = training_data.isnull().sum()\n",
    "# look at the # of missing points in the first ten columns\n",
    "missing_values_count[0:12]"
   ]
  },
  {
   "cell_type": "markdown",
   "id": "revised-music",
   "metadata": {
    "papermill": {
     "duration": 0.071242,
     "end_time": "2021-06-12T07:01:45.345409",
     "exception": false,
     "start_time": "2021-06-12T07:01:45.274167",
     "status": "completed"
    },
    "tags": []
   },
   "source": [
    "No more missing values"
   ]
  },
  {
   "cell_type": "code",
   "execution_count": 27,
   "id": "bored-panic",
   "metadata": {
    "execution": {
     "iopub.execute_input": "2021-06-12T07:01:45.493528Z",
     "iopub.status.busy": "2021-06-12T07:01:45.492548Z",
     "iopub.status.idle": "2021-06-12T07:01:45.508835Z",
     "shell.execute_reply": "2021-06-12T07:01:45.509289Z",
     "shell.execute_reply.started": "2021-06-12T06:56:49.765544Z"
    },
    "papermill": {
     "duration": 0.091258,
     "end_time": "2021-06-12T07:01:45.509465",
     "exception": false,
     "start_time": "2021-06-12T07:01:45.418207",
     "status": "completed"
    },
    "tags": []
   },
   "outputs": [
    {
     "data": {
      "text/html": [
       "<div>\n",
       "<style scoped>\n",
       "    .dataframe tbody tr th:only-of-type {\n",
       "        vertical-align: middle;\n",
       "    }\n",
       "\n",
       "    .dataframe tbody tr th {\n",
       "        vertical-align: top;\n",
       "    }\n",
       "\n",
       "    .dataframe thead th {\n",
       "        text-align: right;\n",
       "    }\n",
       "</style>\n",
       "<table border=\"1\" class=\"dataframe\">\n",
       "  <thead>\n",
       "    <tr style=\"text-align: right;\">\n",
       "      <th></th>\n",
       "      <th>PassengerId</th>\n",
       "      <th>Survived</th>\n",
       "      <th>Pclass</th>\n",
       "      <th>Name</th>\n",
       "      <th>Sex</th>\n",
       "      <th>Age</th>\n",
       "      <th>SibSp</th>\n",
       "      <th>Parch</th>\n",
       "      <th>Ticket</th>\n",
       "      <th>Fare</th>\n",
       "      <th>Embarked</th>\n",
       "    </tr>\n",
       "  </thead>\n",
       "  <tbody>\n",
       "    <tr>\n",
       "      <th>0</th>\n",
       "      <td>1</td>\n",
       "      <td>0</td>\n",
       "      <td>3</td>\n",
       "      <td>Braund, Mr. Owen Harris</td>\n",
       "      <td>male</td>\n",
       "      <td>22.0</td>\n",
       "      <td>1</td>\n",
       "      <td>0</td>\n",
       "      <td>A/5 21171</td>\n",
       "      <td>7.2500</td>\n",
       "      <td>S</td>\n",
       "    </tr>\n",
       "    <tr>\n",
       "      <th>1</th>\n",
       "      <td>2</td>\n",
       "      <td>1</td>\n",
       "      <td>1</td>\n",
       "      <td>Cumings, Mrs. John Bradley (Florence Briggs Th...</td>\n",
       "      <td>female</td>\n",
       "      <td>38.0</td>\n",
       "      <td>1</td>\n",
       "      <td>0</td>\n",
       "      <td>PC 17599</td>\n",
       "      <td>71.2833</td>\n",
       "      <td>C</td>\n",
       "    </tr>\n",
       "    <tr>\n",
       "      <th>2</th>\n",
       "      <td>3</td>\n",
       "      <td>1</td>\n",
       "      <td>3</td>\n",
       "      <td>Heikkinen, Miss. Laina</td>\n",
       "      <td>female</td>\n",
       "      <td>26.0</td>\n",
       "      <td>0</td>\n",
       "      <td>0</td>\n",
       "      <td>STON/O2. 3101282</td>\n",
       "      <td>7.9250</td>\n",
       "      <td>S</td>\n",
       "    </tr>\n",
       "    <tr>\n",
       "      <th>3</th>\n",
       "      <td>4</td>\n",
       "      <td>1</td>\n",
       "      <td>1</td>\n",
       "      <td>Futrelle, Mrs. Jacques Heath (Lily May Peel)</td>\n",
       "      <td>female</td>\n",
       "      <td>35.0</td>\n",
       "      <td>1</td>\n",
       "      <td>0</td>\n",
       "      <td>113803</td>\n",
       "      <td>53.1000</td>\n",
       "      <td>S</td>\n",
       "    </tr>\n",
       "    <tr>\n",
       "      <th>4</th>\n",
       "      <td>5</td>\n",
       "      <td>0</td>\n",
       "      <td>3</td>\n",
       "      <td>Allen, Mr. William Henry</td>\n",
       "      <td>male</td>\n",
       "      <td>35.0</td>\n",
       "      <td>0</td>\n",
       "      <td>0</td>\n",
       "      <td>373450</td>\n",
       "      <td>8.0500</td>\n",
       "      <td>S</td>\n",
       "    </tr>\n",
       "  </tbody>\n",
       "</table>\n",
       "</div>"
      ],
      "text/plain": [
       "   PassengerId  Survived  Pclass  \\\n",
       "0            1         0       3   \n",
       "1            2         1       1   \n",
       "2            3         1       3   \n",
       "3            4         1       1   \n",
       "4            5         0       3   \n",
       "\n",
       "                                                Name     Sex   Age  SibSp  \\\n",
       "0                            Braund, Mr. Owen Harris    male  22.0      1   \n",
       "1  Cumings, Mrs. John Bradley (Florence Briggs Th...  female  38.0      1   \n",
       "2                             Heikkinen, Miss. Laina  female  26.0      0   \n",
       "3       Futrelle, Mrs. Jacques Heath (Lily May Peel)  female  35.0      1   \n",
       "4                           Allen, Mr. William Henry    male  35.0      0   \n",
       "\n",
       "   Parch            Ticket     Fare Embarked  \n",
       "0      0         A/5 21171   7.2500        S  \n",
       "1      0          PC 17599  71.2833        C  \n",
       "2      0  STON/O2. 3101282   7.9250        S  \n",
       "3      0            113803  53.1000        S  \n",
       "4      0            373450   8.0500        S  "
      ]
     },
     "execution_count": 27,
     "metadata": {},
     "output_type": "execute_result"
    }
   ],
   "source": [
    "training_data.head()"
   ]
  },
  {
   "cell_type": "code",
   "execution_count": 28,
   "id": "cheap-suspension",
   "metadata": {
    "execution": {
     "iopub.execute_input": "2021-06-12T07:01:45.657246Z",
     "iopub.status.busy": "2021-06-12T07:01:45.656258Z",
     "iopub.status.idle": "2021-06-12T07:01:45.665854Z",
     "shell.execute_reply": "2021-06-12T07:01:45.666783Z",
     "shell.execute_reply.started": "2021-06-12T06:56:49.790637Z"
    },
    "papermill": {
     "duration": 0.085823,
     "end_time": "2021-06-12T07:01:45.667103",
     "exception": false,
     "start_time": "2021-06-12T07:01:45.581280",
     "status": "completed"
    },
    "tags": []
   },
   "outputs": [
    {
     "name": "stdout",
     "output_type": "stream",
     "text": [
      "0      3\n",
      "1      1\n",
      "2      3\n",
      "3      1\n",
      "4      3\n",
      "      ..\n",
      "886    2\n",
      "887    1\n",
      "888    3\n",
      "889    1\n",
      "890    3\n",
      "Name: Pclass, Length: 891, dtype: int64 0       7.2500\n",
      "1      71.2833\n",
      "2       7.9250\n",
      "3      53.1000\n",
      "4       8.0500\n",
      "        ...   \n",
      "886    13.0000\n",
      "887    30.0000\n",
      "888    23.4500\n",
      "889    30.0000\n",
      "890     7.7500\n",
      "Name: Fare, Length: 891, dtype: float64\n"
     ]
    }
   ],
   "source": [
    "print(training_data.Pclass,training_data.Fare)\n"
   ]
  },
  {
   "cell_type": "markdown",
   "id": "sound-transition",
   "metadata": {
    "papermill": {
     "duration": 0.072535,
     "end_time": "2021-06-12T07:01:45.812908",
     "exception": false,
     "start_time": "2021-06-12T07:01:45.740373",
     "status": "completed"
    },
    "tags": []
   },
   "source": [
    "Name, ticket are irrelevant to survival-->should be dropped.\n",
    "Next step is to label encode my categorical values sex and embarked\n",
    "encoding these data columns transforms them to numbers which will facilitate the work of my model in finding a relationship between my features"
   ]
  },
  {
   "cell_type": "code",
   "execution_count": 29,
   "id": "better-henry",
   "metadata": {
    "execution": {
     "iopub.execute_input": "2021-06-12T07:01:45.976188Z",
     "iopub.status.busy": "2021-06-12T07:01:45.975478Z",
     "iopub.status.idle": "2021-06-12T07:01:45.978824Z",
     "shell.execute_reply": "2021-06-12T07:01:45.979316Z",
     "shell.execute_reply.started": "2021-06-12T06:56:49.804643Z"
    },
    "papermill": {
     "duration": 0.0941,
     "end_time": "2021-06-12T07:01:45.979491",
     "exception": false,
     "start_time": "2021-06-12T07:01:45.885391",
     "status": "completed"
    },
    "tags": []
   },
   "outputs": [
    {
     "data": {
      "text/html": [
       "<div>\n",
       "<style scoped>\n",
       "    .dataframe tbody tr th:only-of-type {\n",
       "        vertical-align: middle;\n",
       "    }\n",
       "\n",
       "    .dataframe tbody tr th {\n",
       "        vertical-align: top;\n",
       "    }\n",
       "\n",
       "    .dataframe thead th {\n",
       "        text-align: right;\n",
       "    }\n",
       "</style>\n",
       "<table border=\"1\" class=\"dataframe\">\n",
       "  <thead>\n",
       "    <tr style=\"text-align: right;\">\n",
       "      <th></th>\n",
       "      <th>PassengerId</th>\n",
       "      <th>Survived</th>\n",
       "      <th>Pclass</th>\n",
       "      <th>Name</th>\n",
       "      <th>Sex</th>\n",
       "      <th>Age</th>\n",
       "      <th>SibSp</th>\n",
       "      <th>Parch</th>\n",
       "      <th>Ticket</th>\n",
       "      <th>Fare</th>\n",
       "      <th>Embarked</th>\n",
       "    </tr>\n",
       "  </thead>\n",
       "  <tbody>\n",
       "    <tr>\n",
       "      <th>0</th>\n",
       "      <td>1</td>\n",
       "      <td>0</td>\n",
       "      <td>3</td>\n",
       "      <td>Braund, Mr. Owen Harris</td>\n",
       "      <td>1</td>\n",
       "      <td>22.0</td>\n",
       "      <td>1</td>\n",
       "      <td>0</td>\n",
       "      <td>A/5 21171</td>\n",
       "      <td>7.2500</td>\n",
       "      <td>2</td>\n",
       "    </tr>\n",
       "    <tr>\n",
       "      <th>1</th>\n",
       "      <td>2</td>\n",
       "      <td>1</td>\n",
       "      <td>1</td>\n",
       "      <td>Cumings, Mrs. John Bradley (Florence Briggs Th...</td>\n",
       "      <td>0</td>\n",
       "      <td>38.0</td>\n",
       "      <td>1</td>\n",
       "      <td>0</td>\n",
       "      <td>PC 17599</td>\n",
       "      <td>71.2833</td>\n",
       "      <td>0</td>\n",
       "    </tr>\n",
       "    <tr>\n",
       "      <th>2</th>\n",
       "      <td>3</td>\n",
       "      <td>1</td>\n",
       "      <td>3</td>\n",
       "      <td>Heikkinen, Miss. Laina</td>\n",
       "      <td>0</td>\n",
       "      <td>26.0</td>\n",
       "      <td>0</td>\n",
       "      <td>0</td>\n",
       "      <td>STON/O2. 3101282</td>\n",
       "      <td>7.9250</td>\n",
       "      <td>2</td>\n",
       "    </tr>\n",
       "    <tr>\n",
       "      <th>3</th>\n",
       "      <td>4</td>\n",
       "      <td>1</td>\n",
       "      <td>1</td>\n",
       "      <td>Futrelle, Mrs. Jacques Heath (Lily May Peel)</td>\n",
       "      <td>0</td>\n",
       "      <td>35.0</td>\n",
       "      <td>1</td>\n",
       "      <td>0</td>\n",
       "      <td>113803</td>\n",
       "      <td>53.1000</td>\n",
       "      <td>2</td>\n",
       "    </tr>\n",
       "    <tr>\n",
       "      <th>4</th>\n",
       "      <td>5</td>\n",
       "      <td>0</td>\n",
       "      <td>3</td>\n",
       "      <td>Allen, Mr. William Henry</td>\n",
       "      <td>1</td>\n",
       "      <td>35.0</td>\n",
       "      <td>0</td>\n",
       "      <td>0</td>\n",
       "      <td>373450</td>\n",
       "      <td>8.0500</td>\n",
       "      <td>2</td>\n",
       "    </tr>\n",
       "  </tbody>\n",
       "</table>\n",
       "</div>"
      ],
      "text/plain": [
       "   PassengerId  Survived  Pclass  \\\n",
       "0            1         0       3   \n",
       "1            2         1       1   \n",
       "2            3         1       3   \n",
       "3            4         1       1   \n",
       "4            5         0       3   \n",
       "\n",
       "                                                Name  Sex   Age  SibSp  Parch  \\\n",
       "0                            Braund, Mr. Owen Harris    1  22.0      1      0   \n",
       "1  Cumings, Mrs. John Bradley (Florence Briggs Th...    0  38.0      1      0   \n",
       "2                             Heikkinen, Miss. Laina    0  26.0      0      0   \n",
       "3       Futrelle, Mrs. Jacques Heath (Lily May Peel)    0  35.0      1      0   \n",
       "4                           Allen, Mr. William Henry    1  35.0      0      0   \n",
       "\n",
       "             Ticket     Fare  Embarked  \n",
       "0         A/5 21171   7.2500         2  \n",
       "1          PC 17599  71.2833         0  \n",
       "2  STON/O2. 3101282   7.9250         2  \n",
       "3            113803  53.1000         2  \n",
       "4            373450   8.0500         2  "
      ]
     },
     "execution_count": 29,
     "metadata": {},
     "output_type": "execute_result"
    }
   ],
   "source": [
    "le = LabelEncoder()\n",
    "training_data['Sex']= le.fit_transform(training_data['Sex'])\n",
    "training_data['Embarked']= le.fit_transform(training_data['Embarked'])\n",
    "training_data.head()"
   ]
  },
  {
   "cell_type": "markdown",
   "id": "concerned-shareware",
   "metadata": {
    "papermill": {
     "duration": 0.07361,
     "end_time": "2021-06-12T07:01:46.128754",
     "exception": false,
     "start_time": "2021-06-12T07:01:46.055144",
     "status": "completed"
    },
    "tags": []
   },
   "source": [
    "Scaling data is important for efficient model training.\n",
    "I will colerate once more after processing data"
   ]
  },
  {
   "cell_type": "code",
   "execution_count": 30,
   "id": "voluntary-turkish",
   "metadata": {
    "execution": {
     "iopub.execute_input": "2021-06-12T07:01:46.288391Z",
     "iopub.status.busy": "2021-06-12T07:01:46.287757Z",
     "iopub.status.idle": "2021-06-12T07:01:46.309485Z",
     "shell.execute_reply": "2021-06-12T07:01:46.309975Z",
     "shell.execute_reply.started": "2021-06-12T06:56:49.834419Z"
    },
    "papermill": {
     "duration": 0.104914,
     "end_time": "2021-06-12T07:01:46.310167",
     "exception": false,
     "start_time": "2021-06-12T07:01:46.205253",
     "status": "completed"
    },
    "tags": []
   },
   "outputs": [
    {
     "data": {
      "text/html": [
       "<div>\n",
       "<style scoped>\n",
       "    .dataframe tbody tr th:only-of-type {\n",
       "        vertical-align: middle;\n",
       "    }\n",
       "\n",
       "    .dataframe tbody tr th {\n",
       "        vertical-align: top;\n",
       "    }\n",
       "\n",
       "    .dataframe thead th {\n",
       "        text-align: right;\n",
       "    }\n",
       "</style>\n",
       "<table border=\"1\" class=\"dataframe\">\n",
       "  <thead>\n",
       "    <tr style=\"text-align: right;\">\n",
       "      <th></th>\n",
       "      <th>PassengerId</th>\n",
       "      <th>Survived</th>\n",
       "      <th>Pclass</th>\n",
       "      <th>Name</th>\n",
       "      <th>Sex</th>\n",
       "      <th>Age</th>\n",
       "      <th>SibSp</th>\n",
       "      <th>Parch</th>\n",
       "      <th>Ticket</th>\n",
       "      <th>Fare</th>\n",
       "      <th>Embarked</th>\n",
       "    </tr>\n",
       "  </thead>\n",
       "  <tbody>\n",
       "    <tr>\n",
       "      <th>0</th>\n",
       "      <td>1</td>\n",
       "      <td>0</td>\n",
       "      <td>3</td>\n",
       "      <td>Braund, Mr. Owen Harris</td>\n",
       "      <td>1</td>\n",
       "      <td>0.271174</td>\n",
       "      <td>1</td>\n",
       "      <td>0</td>\n",
       "      <td>A/5 21171</td>\n",
       "      <td>0.014151</td>\n",
       "      <td>2</td>\n",
       "    </tr>\n",
       "    <tr>\n",
       "      <th>1</th>\n",
       "      <td>2</td>\n",
       "      <td>1</td>\n",
       "      <td>1</td>\n",
       "      <td>Cumings, Mrs. John Bradley (Florence Briggs Th...</td>\n",
       "      <td>0</td>\n",
       "      <td>0.472229</td>\n",
       "      <td>1</td>\n",
       "      <td>0</td>\n",
       "      <td>PC 17599</td>\n",
       "      <td>0.139136</td>\n",
       "      <td>0</td>\n",
       "    </tr>\n",
       "    <tr>\n",
       "      <th>2</th>\n",
       "      <td>3</td>\n",
       "      <td>1</td>\n",
       "      <td>3</td>\n",
       "      <td>Heikkinen, Miss. Laina</td>\n",
       "      <td>0</td>\n",
       "      <td>0.321438</td>\n",
       "      <td>0</td>\n",
       "      <td>0</td>\n",
       "      <td>STON/O2. 3101282</td>\n",
       "      <td>0.015469</td>\n",
       "      <td>2</td>\n",
       "    </tr>\n",
       "    <tr>\n",
       "      <th>3</th>\n",
       "      <td>4</td>\n",
       "      <td>1</td>\n",
       "      <td>1</td>\n",
       "      <td>Futrelle, Mrs. Jacques Heath (Lily May Peel)</td>\n",
       "      <td>0</td>\n",
       "      <td>0.434531</td>\n",
       "      <td>1</td>\n",
       "      <td>0</td>\n",
       "      <td>113803</td>\n",
       "      <td>0.103644</td>\n",
       "      <td>2</td>\n",
       "    </tr>\n",
       "    <tr>\n",
       "      <th>4</th>\n",
       "      <td>5</td>\n",
       "      <td>0</td>\n",
       "      <td>3</td>\n",
       "      <td>Allen, Mr. William Henry</td>\n",
       "      <td>1</td>\n",
       "      <td>0.434531</td>\n",
       "      <td>0</td>\n",
       "      <td>0</td>\n",
       "      <td>373450</td>\n",
       "      <td>0.015713</td>\n",
       "      <td>2</td>\n",
       "    </tr>\n",
       "  </tbody>\n",
       "</table>\n",
       "</div>"
      ],
      "text/plain": [
       "   PassengerId  Survived  Pclass  \\\n",
       "0            1         0       3   \n",
       "1            2         1       1   \n",
       "2            3         1       3   \n",
       "3            4         1       1   \n",
       "4            5         0       3   \n",
       "\n",
       "                                                Name  Sex       Age  SibSp  \\\n",
       "0                            Braund, Mr. Owen Harris    1  0.271174      1   \n",
       "1  Cumings, Mrs. John Bradley (Florence Briggs Th...    0  0.472229      1   \n",
       "2                             Heikkinen, Miss. Laina    0  0.321438      0   \n",
       "3       Futrelle, Mrs. Jacques Heath (Lily May Peel)    0  0.434531      1   \n",
       "4                           Allen, Mr. William Henry    1  0.434531      0   \n",
       "\n",
       "   Parch            Ticket      Fare  Embarked  \n",
       "0      0         A/5 21171  0.014151         2  \n",
       "1      0          PC 17599  0.139136         0  \n",
       "2      0  STON/O2. 3101282  0.015469         2  \n",
       "3      0            113803  0.103644         2  \n",
       "4      0            373450  0.015713         2  "
      ]
     },
     "execution_count": 30,
     "metadata": {},
     "output_type": "execute_result"
    }
   ],
   "source": [
    "# for min_max scaling\n",
    "from sklearn.preprocessing import MinMaxScaler\n",
    "scaler = MinMaxScaler()\n",
    "training_data[['Age','Fare']] = scaler.fit_transform(training_data[['Age','Fare']])\n",
    "training_data.head()"
   ]
  },
  {
   "cell_type": "code",
   "execution_count": 31,
   "id": "centered-favor",
   "metadata": {
    "execution": {
     "iopub.execute_input": "2021-06-12T07:01:46.460844Z",
     "iopub.status.busy": "2021-06-12T07:01:46.459898Z",
     "iopub.status.idle": "2021-06-12T07:01:46.496581Z",
     "shell.execute_reply": "2021-06-12T07:01:46.497116Z",
     "shell.execute_reply.started": "2021-06-12T06:56:49.876877Z"
    },
    "papermill": {
     "duration": 0.113511,
     "end_time": "2021-06-12T07:01:46.497286",
     "exception": false,
     "start_time": "2021-06-12T07:01:46.383775",
     "status": "completed"
    },
    "tags": []
   },
   "outputs": [
    {
     "data": {
      "text/html": [
       "<div>\n",
       "<style scoped>\n",
       "    .dataframe tbody tr th:only-of-type {\n",
       "        vertical-align: middle;\n",
       "    }\n",
       "\n",
       "    .dataframe tbody tr th {\n",
       "        vertical-align: top;\n",
       "    }\n",
       "\n",
       "    .dataframe thead th {\n",
       "        text-align: right;\n",
       "    }\n",
       "</style>\n",
       "<table border=\"1\" class=\"dataframe\">\n",
       "  <thead>\n",
       "    <tr style=\"text-align: right;\">\n",
       "      <th></th>\n",
       "      <th>PassengerId</th>\n",
       "      <th>Survived</th>\n",
       "      <th>Pclass</th>\n",
       "      <th>Sex</th>\n",
       "      <th>Age</th>\n",
       "      <th>SibSp</th>\n",
       "      <th>Parch</th>\n",
       "      <th>Fare</th>\n",
       "      <th>Embarked</th>\n",
       "    </tr>\n",
       "  </thead>\n",
       "  <tbody>\n",
       "    <tr>\n",
       "      <th>PassengerId</th>\n",
       "      <td>1.000000</td>\n",
       "      <td>-0.004090</td>\n",
       "      <td>-0.026824</td>\n",
       "      <td>0.035079</td>\n",
       "      <td>0.023575</td>\n",
       "      <td>-0.048394</td>\n",
       "      <td>0.000798</td>\n",
       "      <td>-0.008921</td>\n",
       "      <td>0.014201</td>\n",
       "    </tr>\n",
       "    <tr>\n",
       "      <th>Survived</th>\n",
       "      <td>-0.004090</td>\n",
       "      <td>1.000000</td>\n",
       "      <td>-0.323533</td>\n",
       "      <td>-0.543351</td>\n",
       "      <td>-0.031055</td>\n",
       "      <td>0.085915</td>\n",
       "      <td>0.133933</td>\n",
       "      <td>0.266229</td>\n",
       "      <td>-0.155747</td>\n",
       "    </tr>\n",
       "    <tr>\n",
       "      <th>Pclass</th>\n",
       "      <td>-0.026824</td>\n",
       "      <td>-0.323533</td>\n",
       "      <td>1.000000</td>\n",
       "      <td>0.129325</td>\n",
       "      <td>-0.254206</td>\n",
       "      <td>-0.039552</td>\n",
       "      <td>-0.021019</td>\n",
       "      <td>-0.573531</td>\n",
       "      <td>0.080867</td>\n",
       "    </tr>\n",
       "    <tr>\n",
       "      <th>Sex</th>\n",
       "      <td>0.035079</td>\n",
       "      <td>-0.543351</td>\n",
       "      <td>0.129325</td>\n",
       "      <td>1.000000</td>\n",
       "      <td>0.056784</td>\n",
       "      <td>-0.188694</td>\n",
       "      <td>-0.246536</td>\n",
       "      <td>-0.213480</td>\n",
       "      <td>0.112207</td>\n",
       "    </tr>\n",
       "    <tr>\n",
       "      <th>Age</th>\n",
       "      <td>0.023575</td>\n",
       "      <td>-0.031055</td>\n",
       "      <td>-0.254206</td>\n",
       "      <td>0.056784</td>\n",
       "      <td>1.000000</td>\n",
       "      <td>-0.115427</td>\n",
       "      <td>-0.174819</td>\n",
       "      <td>0.087221</td>\n",
       "      <td>-0.006112</td>\n",
       "    </tr>\n",
       "    <tr>\n",
       "      <th>SibSp</th>\n",
       "      <td>-0.048394</td>\n",
       "      <td>0.085915</td>\n",
       "      <td>-0.039552</td>\n",
       "      <td>-0.188694</td>\n",
       "      <td>-0.115427</td>\n",
       "      <td>1.000000</td>\n",
       "      <td>0.425241</td>\n",
       "      <td>0.358262</td>\n",
       "      <td>0.010231</td>\n",
       "    </tr>\n",
       "    <tr>\n",
       "      <th>Parch</th>\n",
       "      <td>0.000798</td>\n",
       "      <td>0.133933</td>\n",
       "      <td>-0.021019</td>\n",
       "      <td>-0.246536</td>\n",
       "      <td>-0.174819</td>\n",
       "      <td>0.425241</td>\n",
       "      <td>1.000000</td>\n",
       "      <td>0.330360</td>\n",
       "      <td>0.026272</td>\n",
       "    </tr>\n",
       "    <tr>\n",
       "      <th>Fare</th>\n",
       "      <td>-0.008921</td>\n",
       "      <td>0.266229</td>\n",
       "      <td>-0.573531</td>\n",
       "      <td>-0.213480</td>\n",
       "      <td>0.087221</td>\n",
       "      <td>0.358262</td>\n",
       "      <td>0.330360</td>\n",
       "      <td>1.000000</td>\n",
       "      <td>-0.051517</td>\n",
       "    </tr>\n",
       "    <tr>\n",
       "      <th>Embarked</th>\n",
       "      <td>0.014201</td>\n",
       "      <td>-0.155747</td>\n",
       "      <td>0.080867</td>\n",
       "      <td>0.112207</td>\n",
       "      <td>-0.006112</td>\n",
       "      <td>0.010231</td>\n",
       "      <td>0.026272</td>\n",
       "      <td>-0.051517</td>\n",
       "      <td>1.000000</td>\n",
       "    </tr>\n",
       "  </tbody>\n",
       "</table>\n",
       "</div>"
      ],
      "text/plain": [
       "             PassengerId  Survived    Pclass       Sex       Age     SibSp  \\\n",
       "PassengerId     1.000000 -0.004090 -0.026824  0.035079  0.023575 -0.048394   \n",
       "Survived       -0.004090  1.000000 -0.323533 -0.543351 -0.031055  0.085915   \n",
       "Pclass         -0.026824 -0.323533  1.000000  0.129325 -0.254206 -0.039552   \n",
       "Sex             0.035079 -0.543351  0.129325  1.000000  0.056784 -0.188694   \n",
       "Age             0.023575 -0.031055 -0.254206  0.056784  1.000000 -0.115427   \n",
       "SibSp          -0.048394  0.085915 -0.039552 -0.188694 -0.115427  1.000000   \n",
       "Parch           0.000798  0.133933 -0.021019 -0.246536 -0.174819  0.425241   \n",
       "Fare           -0.008921  0.266229 -0.573531 -0.213480  0.087221  0.358262   \n",
       "Embarked        0.014201 -0.155747  0.080867  0.112207 -0.006112  0.010231   \n",
       "\n",
       "                Parch      Fare  Embarked  \n",
       "PassengerId  0.000798 -0.008921  0.014201  \n",
       "Survived     0.133933  0.266229 -0.155747  \n",
       "Pclass      -0.021019 -0.573531  0.080867  \n",
       "Sex         -0.246536 -0.213480  0.112207  \n",
       "Age         -0.174819  0.087221 -0.006112  \n",
       "SibSp        0.425241  0.358262  0.010231  \n",
       "Parch        1.000000  0.330360  0.026272  \n",
       "Fare         0.330360  1.000000 -0.051517  \n",
       "Embarked     0.026272 -0.051517  1.000000  "
      ]
     },
     "execution_count": 31,
     "metadata": {},
     "output_type": "execute_result"
    }
   ],
   "source": [
    "training_data.corr(method ='kendall')"
   ]
  },
  {
   "cell_type": "markdown",
   "id": "objective-reverse",
   "metadata": {
    "papermill": {
     "duration": 0.074071,
     "end_time": "2021-06-12T07:01:46.645330",
     "exception": false,
     "start_time": "2021-06-12T07:01:46.571259",
     "status": "completed"
    },
    "tags": []
   },
   "source": [
    "Observations:\n",
    "Survived: Sex,Pclass,Fare,Embarked,Parch,SibSp,Age. weakest is Age!\n",
    "pclass*fare\n",
    "sex*survived\n",
    "parch*sbsp\n",
    "\n",
    "Fare and pclass are strongly correlated if needed I can drop one of them, (fare as embarked>fare *survived)"
   ]
  },
  {
   "cell_type": "code",
   "execution_count": 32,
   "id": "random-kenya",
   "metadata": {
    "execution": {
     "iopub.execute_input": "2021-06-12T07:01:46.797026Z",
     "iopub.status.busy": "2021-06-12T07:01:46.796005Z",
     "iopub.status.idle": "2021-06-12T07:01:46.801919Z",
     "shell.execute_reply": "2021-06-12T07:01:46.802362Z",
     "shell.execute_reply.started": "2021-06-12T06:56:49.927916Z"
    },
    "papermill": {
     "duration": 0.083479,
     "end_time": "2021-06-12T07:01:46.802532",
     "exception": false,
     "start_time": "2021-06-12T07:01:46.719053",
     "status": "completed"
    },
    "tags": []
   },
   "outputs": [],
   "source": [
    "y= training_data[\"Survived\"]\n",
    "features=[\"Pclass\",\"Parch\",\"SibSp\",\"Age\",\"Sex\",\"Embarked\",\"Fare\"]\n",
    "X=training_data[features]"
   ]
  },
  {
   "cell_type": "code",
   "execution_count": 33,
   "id": "raising-iceland",
   "metadata": {
    "execution": {
     "iopub.execute_input": "2021-06-12T07:01:46.953713Z",
     "iopub.status.busy": "2021-06-12T07:01:46.952764Z",
     "iopub.status.idle": "2021-06-12T07:01:46.959329Z",
     "shell.execute_reply": "2021-06-12T07:01:46.959808Z",
     "shell.execute_reply.started": "2021-06-12T06:56:49.937716Z"
    },
    "papermill": {
     "duration": 0.083742,
     "end_time": "2021-06-12T07:01:46.959990",
     "exception": false,
     "start_time": "2021-06-12T07:01:46.876248",
     "status": "completed"
    },
    "tags": []
   },
   "outputs": [],
   "source": [
    "X_train,X_test,y_train,y_test = train_test_split(X,y,test_size=0.2,random_state=0)"
   ]
  },
  {
   "cell_type": "markdown",
   "id": "varying-response",
   "metadata": {
    "papermill": {
     "duration": 0.073383,
     "end_time": "2021-06-12T07:01:47.107449",
     "exception": false,
     "start_time": "2021-06-12T07:01:47.034066",
     "status": "completed"
    },
    "tags": []
   },
   "source": [
    "I will create different models and train them,\n",
    "basic means of evaluation--> calculate score based on X_train,y_train\n",
    "                           -->calculate error using y_test"
   ]
  },
  {
   "cell_type": "code",
   "execution_count": 34,
   "id": "efficient-jacksonville",
   "metadata": {
    "execution": {
     "iopub.execute_input": "2021-06-12T07:01:47.263472Z",
     "iopub.status.busy": "2021-06-12T07:01:47.262454Z",
     "iopub.status.idle": "2021-06-12T07:01:47.480284Z",
     "shell.execute_reply": "2021-06-12T07:01:47.479726Z",
     "shell.execute_reply.started": "2021-06-12T06:56:49.954086Z"
    },
    "papermill": {
     "duration": 0.297528,
     "end_time": "2021-06-12T07:01:47.480431",
     "exception": false,
     "start_time": "2021-06-12T07:01:47.182903",
     "status": "completed"
    },
    "tags": []
   },
   "outputs": [
    {
     "data": {
      "text/plain": [
       "0.848314606741573"
      ]
     },
     "execution_count": 34,
     "metadata": {},
     "output_type": "execute_result"
    }
   ],
   "source": [
    "RandomForest_model = RandomForestClassifier(n_estimators=100, max_depth=5, random_state=0)\n",
    "RandomForest_model.fit(X_train,y_train)\n",
    "score = RandomForest_model.score(X_train,y_train)\n",
    "score"
   ]
  },
  {
   "cell_type": "code",
   "execution_count": 35,
   "id": "supreme-release",
   "metadata": {
    "execution": {
     "iopub.execute_input": "2021-06-12T07:01:47.642364Z",
     "iopub.status.busy": "2021-06-12T07:01:47.641713Z",
     "iopub.status.idle": "2021-06-12T07:01:47.657061Z",
     "shell.execute_reply": "2021-06-12T07:01:47.657798Z",
     "shell.execute_reply.started": "2021-06-12T06:56:50.184822Z"
    },
    "papermill": {
     "duration": 0.102419,
     "end_time": "2021-06-12T07:01:47.658066",
     "exception": false,
     "start_time": "2021-06-12T07:01:47.555647",
     "status": "completed"
    },
    "tags": []
   },
   "outputs": [
    {
     "name": "stdout",
     "output_type": "stream",
     "text": [
      "0.16759776536312848\n"
     ]
    }
   ],
   "source": [
    "val_predictions = RandomForest_model.predict(X_test)\n",
    "print(mean_absolute_error(y_test, val_predictions))"
   ]
  },
  {
   "cell_type": "code",
   "execution_count": 36,
   "id": "authorized-craft",
   "metadata": {
    "execution": {
     "iopub.execute_input": "2021-06-12T07:01:47.811235Z",
     "iopub.status.busy": "2021-06-12T07:01:47.810516Z",
     "iopub.status.idle": "2021-06-12T07:01:47.823687Z",
     "shell.execute_reply": "2021-06-12T07:01:47.824244Z",
     "shell.execute_reply.started": "2021-06-12T06:56:50.211362Z"
    },
    "papermill": {
     "duration": 0.090891,
     "end_time": "2021-06-12T07:01:47.824427",
     "exception": false,
     "start_time": "2021-06-12T07:01:47.733536",
     "status": "completed"
    },
    "tags": []
   },
   "outputs": [
    {
     "data": {
      "text/plain": [
       "0.9817415730337079"
      ]
     },
     "execution_count": 36,
     "metadata": {},
     "output_type": "execute_result"
    }
   ],
   "source": [
    "DecisionTree_model = DecisionTreeClassifier(random_state=0)\n",
    "DecisionTree_model.fit(X_train,y_train)\n",
    "score = DecisionTree_model.score(X_train,y_train)\n",
    "score"
   ]
  },
  {
   "cell_type": "code",
   "execution_count": 37,
   "id": "respected-superior",
   "metadata": {
    "execution": {
     "iopub.execute_input": "2021-06-12T07:01:47.977907Z",
     "iopub.status.busy": "2021-06-12T07:01:47.977275Z",
     "iopub.status.idle": "2021-06-12T07:01:47.985932Z",
     "shell.execute_reply": "2021-06-12T07:01:47.985184Z",
     "shell.execute_reply.started": "2021-06-12T06:56:50.226960Z"
    },
    "papermill": {
     "duration": 0.086328,
     "end_time": "2021-06-12T07:01:47.986141",
     "exception": false,
     "start_time": "2021-06-12T07:01:47.899813",
     "status": "completed"
    },
    "tags": []
   },
   "outputs": [
    {
     "name": "stdout",
     "output_type": "stream",
     "text": [
      "0.22346368715083798\n"
     ]
    }
   ],
   "source": [
    "val_predictions = DecisionTree_model.predict(X_test)\n",
    "print(mean_absolute_error(y_test,val_predictions))"
   ]
  },
  {
   "cell_type": "markdown",
   "id": "following-lotus",
   "metadata": {
    "papermill": {
     "duration": 0.0771,
     "end_time": "2021-06-12T07:01:48.140779",
     "exception": false,
     "start_time": "2021-06-12T07:01:48.063679",
     "status": "completed"
    },
    "tags": []
   },
   "source": [
    "Decision tree has highest score but highest error as well;overfitting. I can catgorize columns if needed. or grbee kda tsheelee features.\n",
    "Random forest already solves this problem"
   ]
  },
  {
   "cell_type": "code",
   "execution_count": 38,
   "id": "interim-separation",
   "metadata": {
    "execution": {
     "iopub.execute_input": "2021-06-12T07:01:48.304182Z",
     "iopub.status.busy": "2021-06-12T07:01:48.302997Z",
     "iopub.status.idle": "2021-06-12T07:01:48.326278Z",
     "shell.execute_reply": "2021-06-12T07:01:48.326859Z",
     "shell.execute_reply.started": "2021-06-12T06:56:50.236090Z"
    },
    "papermill": {
     "duration": 0.108456,
     "end_time": "2021-06-12T07:01:48.327038",
     "exception": false,
     "start_time": "2021-06-12T07:01:48.218582",
     "status": "completed"
    },
    "tags": []
   },
   "outputs": [
    {
     "data": {
      "text/plain": [
       "0.797752808988764"
      ]
     },
     "execution_count": 38,
     "metadata": {},
     "output_type": "execute_result"
    }
   ],
   "source": [
    "LR_model = LogisticRegression(random_state=0)\n",
    "LR_model.fit(X_train,y_train)\n",
    "score = LR_model.score(X_train,y_train)\n",
    "score"
   ]
  },
  {
   "cell_type": "code",
   "execution_count": 39,
   "id": "behind-horror",
   "metadata": {
    "execution": {
     "iopub.execute_input": "2021-06-12T07:01:48.485792Z",
     "iopub.status.busy": "2021-06-12T07:01:48.484797Z",
     "iopub.status.idle": "2021-06-12T07:01:48.493597Z",
     "shell.execute_reply": "2021-06-12T07:01:48.494174Z",
     "shell.execute_reply.started": "2021-06-12T06:56:50.267842Z"
    },
    "papermill": {
     "duration": 0.090044,
     "end_time": "2021-06-12T07:01:48.494342",
     "exception": false,
     "start_time": "2021-06-12T07:01:48.404298",
     "status": "completed"
    },
    "tags": []
   },
   "outputs": [
    {
     "name": "stdout",
     "output_type": "stream",
     "text": [
      "0.2011173184357542\n"
     ]
    }
   ],
   "source": [
    "val_predictions = LR_model.predict(X_test)\n",
    "print(mean_absolute_error(y_test, val_predictions))"
   ]
  },
  {
   "cell_type": "code",
   "execution_count": 40,
   "id": "classified-image",
   "metadata": {
    "execution": {
     "iopub.execute_input": "2021-06-12T07:01:48.658768Z",
     "iopub.status.busy": "2021-06-12T07:01:48.657755Z",
     "iopub.status.idle": "2021-06-12T07:01:48.696286Z",
     "shell.execute_reply": "2021-06-12T07:01:48.695750Z",
     "shell.execute_reply.started": "2021-06-12T06:56:50.277014Z"
    },
    "papermill": {
     "duration": 0.123812,
     "end_time": "2021-06-12T07:01:48.696425",
     "exception": false,
     "start_time": "2021-06-12T07:01:48.572613",
     "status": "completed"
    },
    "tags": []
   },
   "outputs": [
    {
     "data": {
      "text/plain": [
       "0.8679775280898876"
      ]
     },
     "execution_count": 40,
     "metadata": {},
     "output_type": "execute_result"
    }
   ],
   "source": [
    "KNeighbors_model = KNeighborsClassifier(n_neighbors=3)\n",
    "KNeighbors_model.fit(X_train,y_train)\n",
    "score = KNeighbors_model.score(X_train,y_train)\n",
    "score"
   ]
  },
  {
   "cell_type": "code",
   "execution_count": 41,
   "id": "fancy-implementation",
   "metadata": {
    "execution": {
     "iopub.execute_input": "2021-06-12T07:01:48.856293Z",
     "iopub.status.busy": "2021-06-12T07:01:48.855356Z",
     "iopub.status.idle": "2021-06-12T07:01:48.869045Z",
     "shell.execute_reply": "2021-06-12T07:01:48.868520Z",
     "shell.execute_reply.started": "2021-06-12T06:56:50.329491Z"
    },
    "papermill": {
     "duration": 0.096742,
     "end_time": "2021-06-12T07:01:48.869188",
     "exception": false,
     "start_time": "2021-06-12T07:01:48.772446",
     "status": "completed"
    },
    "tags": []
   },
   "outputs": [
    {
     "name": "stdout",
     "output_type": "stream",
     "text": [
      "0.1787709497206704\n"
     ]
    }
   ],
   "source": [
    "val_predictions = KNeighbors_model.predict(X_test)\n",
    "print(mean_absolute_error(y_test, val_predictions))"
   ]
  },
  {
   "cell_type": "code",
   "execution_count": 42,
   "id": "present-allergy",
   "metadata": {
    "execution": {
     "iopub.execute_input": "2021-06-12T07:01:49.032347Z",
     "iopub.status.busy": "2021-06-12T07:01:49.031611Z",
     "iopub.status.idle": "2021-06-12T07:01:49.040604Z",
     "shell.execute_reply": "2021-06-12T07:01:49.039970Z",
     "shell.execute_reply.started": "2021-06-12T06:56:50.347239Z"
    },
    "papermill": {
     "duration": 0.094992,
     "end_time": "2021-06-12T07:01:49.040762",
     "exception": false,
     "start_time": "2021-06-12T07:01:48.945770",
     "status": "completed"
    },
    "tags": []
   },
   "outputs": [
    {
     "data": {
      "text/plain": [
       "0.7879213483146067"
      ]
     },
     "execution_count": 42,
     "metadata": {},
     "output_type": "execute_result"
    }
   ],
   "source": [
    "NB_model=GaussianNB()\n",
    "NB_model.fit(X_train,y_train)\n",
    "score = NB_model.score(X_train,y_train)\n",
    "score"
   ]
  },
  {
   "cell_type": "code",
   "execution_count": 43,
   "id": "judicial-thunder",
   "metadata": {
    "execution": {
     "iopub.execute_input": "2021-06-12T07:01:49.203946Z",
     "iopub.status.busy": "2021-06-12T07:01:49.203073Z",
     "iopub.status.idle": "2021-06-12T07:01:49.208186Z",
     "shell.execute_reply": "2021-06-12T07:01:49.207616Z",
     "shell.execute_reply.started": "2021-06-12T06:56:50.361932Z"
    },
    "papermill": {
     "duration": 0.089665,
     "end_time": "2021-06-12T07:01:49.208328",
     "exception": false,
     "start_time": "2021-06-12T07:01:49.118663",
     "status": "completed"
    },
    "tags": []
   },
   "outputs": [
    {
     "name": "stdout",
     "output_type": "stream",
     "text": [
      "0.2122905027932961\n"
     ]
    }
   ],
   "source": [
    "val_predictions = NB_model.predict(X_test)\n",
    "print(mean_absolute_error(y_test, val_predictions))"
   ]
  },
  {
   "cell_type": "markdown",
   "id": "adjacent-bracket",
   "metadata": {
    "papermill": {
     "duration": 0.090269,
     "end_time": "2021-06-12T07:01:49.388590",
     "exception": false,
     "start_time": "2021-06-12T07:01:49.298321",
     "status": "completed"
    },
    "tags": []
   },
   "source": [
    "NB figures aren't good so I'll exclude it"
   ]
  },
  {
   "cell_type": "code",
   "execution_count": 44,
   "id": "chemical-fairy",
   "metadata": {
    "execution": {
     "iopub.execute_input": "2021-06-12T07:01:49.552220Z",
     "iopub.status.busy": "2021-06-12T07:01:49.551470Z",
     "iopub.status.idle": "2021-06-12T07:01:49.829662Z",
     "shell.execute_reply": "2021-06-12T07:01:49.829125Z",
     "shell.execute_reply.started": "2021-06-12T06:56:50.372021Z"
    },
    "papermill": {
     "duration": 0.364075,
     "end_time": "2021-06-12T07:01:49.829805",
     "exception": false,
     "start_time": "2021-06-12T07:01:49.465730",
     "status": "completed"
    },
    "tags": []
   },
   "outputs": [
    {
     "data": {
      "text/plain": [
       "0.8595505617977528"
      ]
     },
     "execution_count": 44,
     "metadata": {},
     "output_type": "execute_result"
    }
   ],
   "source": [
    "estimator = []\n",
    "estimator.append(('rf',RandomForest_model))\n",
    "estimator.append(('knn', KNeighbors_model))\n",
    "estimator.append(('lr',LR_model))\n",
    "estimator.append(('DT',DecisionTree_model))\n",
    "vot_hard_model = VotingClassifier(estimators = estimator, voting ='hard')\n",
    "vot_hard_model.fit(X_train,y_train)\n",
    "score = vot_hard_model.score(X_train,y_train)\n",
    "score"
   ]
  },
  {
   "cell_type": "code",
   "execution_count": 45,
   "id": "conscious-wallpaper",
   "metadata": {
    "execution": {
     "iopub.execute_input": "2021-06-12T07:01:49.995163Z",
     "iopub.status.busy": "2021-06-12T07:01:49.994354Z",
     "iopub.status.idle": "2021-06-12T07:01:50.026937Z",
     "shell.execute_reply": "2021-06-12T07:01:50.027442Z",
     "shell.execute_reply.started": "2021-06-12T06:56:50.667585Z"
    },
    "papermill": {
     "duration": 0.119847,
     "end_time": "2021-06-12T07:01:50.027641",
     "exception": false,
     "start_time": "2021-06-12T07:01:49.907794",
     "status": "completed"
    },
    "tags": []
   },
   "outputs": [
    {
     "name": "stdout",
     "output_type": "stream",
     "text": [
      "0.17318435754189945\n"
     ]
    }
   ],
   "source": [
    "val_predictions = vot_hard_model.predict(X_test)\n",
    "print(mean_absolute_error(y_test, val_predictions))"
   ]
  },
  {
   "cell_type": "markdown",
   "id": "caring-advertiser",
   "metadata": {
    "papermill": {
     "duration": 0.079769,
     "end_time": "2021-06-12T07:01:50.184840",
     "exception": false,
     "start_time": "2021-06-12T07:01:50.105071",
     "status": "completed"
    },
    "tags": []
   },
   "source": [
    "Before deploying my model on real testing data, I will preprocess testing_data accordingly for consistency"
   ]
  },
  {
   "cell_type": "code",
   "execution_count": 46,
   "id": "united-thermal",
   "metadata": {
    "execution": {
     "iopub.execute_input": "2021-06-12T07:01:50.365988Z",
     "iopub.status.busy": "2021-06-12T07:01:50.364985Z",
     "iopub.status.idle": "2021-06-12T07:01:50.369130Z",
     "shell.execute_reply": "2021-06-12T07:01:50.369606Z",
     "shell.execute_reply.started": "2021-06-12T06:56:50.707695Z"
    },
    "papermill": {
     "duration": 0.104852,
     "end_time": "2021-06-12T07:01:50.369800",
     "exception": false,
     "start_time": "2021-06-12T07:01:50.264948",
     "status": "completed"
    },
    "tags": []
   },
   "outputs": [
    {
     "data": {
      "text/html": [
       "<div>\n",
       "<style scoped>\n",
       "    .dataframe tbody tr th:only-of-type {\n",
       "        vertical-align: middle;\n",
       "    }\n",
       "\n",
       "    .dataframe tbody tr th {\n",
       "        vertical-align: top;\n",
       "    }\n",
       "\n",
       "    .dataframe thead th {\n",
       "        text-align: right;\n",
       "    }\n",
       "</style>\n",
       "<table border=\"1\" class=\"dataframe\">\n",
       "  <thead>\n",
       "    <tr style=\"text-align: right;\">\n",
       "      <th></th>\n",
       "      <th>PassengerId</th>\n",
       "      <th>Pclass</th>\n",
       "      <th>Name</th>\n",
       "      <th>Sex</th>\n",
       "      <th>Age</th>\n",
       "      <th>SibSp</th>\n",
       "      <th>Parch</th>\n",
       "      <th>Ticket</th>\n",
       "      <th>Fare</th>\n",
       "      <th>Cabin</th>\n",
       "      <th>Embarked</th>\n",
       "    </tr>\n",
       "  </thead>\n",
       "  <tbody>\n",
       "    <tr>\n",
       "      <th>0</th>\n",
       "      <td>892</td>\n",
       "      <td>3</td>\n",
       "      <td>Kelly, Mr. James</td>\n",
       "      <td>male</td>\n",
       "      <td>0.452723</td>\n",
       "      <td>0</td>\n",
       "      <td>0</td>\n",
       "      <td>330911</td>\n",
       "      <td>0.015282</td>\n",
       "      <td>NaN</td>\n",
       "      <td>Q</td>\n",
       "    </tr>\n",
       "    <tr>\n",
       "      <th>1</th>\n",
       "      <td>893</td>\n",
       "      <td>3</td>\n",
       "      <td>Wilkes, Mrs. James (Ellen Needs)</td>\n",
       "      <td>female</td>\n",
       "      <td>0.617566</td>\n",
       "      <td>1</td>\n",
       "      <td>0</td>\n",
       "      <td>363272</td>\n",
       "      <td>0.013663</td>\n",
       "      <td>NaN</td>\n",
       "      <td>S</td>\n",
       "    </tr>\n",
       "    <tr>\n",
       "      <th>2</th>\n",
       "      <td>894</td>\n",
       "      <td>2</td>\n",
       "      <td>Myles, Mr. Thomas Francis</td>\n",
       "      <td>male</td>\n",
       "      <td>0.815377</td>\n",
       "      <td>0</td>\n",
       "      <td>0</td>\n",
       "      <td>240276</td>\n",
       "      <td>0.018909</td>\n",
       "      <td>NaN</td>\n",
       "      <td>Q</td>\n",
       "    </tr>\n",
       "    <tr>\n",
       "      <th>3</th>\n",
       "      <td>895</td>\n",
       "      <td>3</td>\n",
       "      <td>Wirz, Mr. Albert</td>\n",
       "      <td>male</td>\n",
       "      <td>0.353818</td>\n",
       "      <td>0</td>\n",
       "      <td>0</td>\n",
       "      <td>315154</td>\n",
       "      <td>0.016908</td>\n",
       "      <td>NaN</td>\n",
       "      <td>S</td>\n",
       "    </tr>\n",
       "    <tr>\n",
       "      <th>4</th>\n",
       "      <td>896</td>\n",
       "      <td>3</td>\n",
       "      <td>Hirvonen, Mrs. Alexander (Helga E Lindqvist)</td>\n",
       "      <td>female</td>\n",
       "      <td>0.287881</td>\n",
       "      <td>1</td>\n",
       "      <td>1</td>\n",
       "      <td>3101298</td>\n",
       "      <td>0.023984</td>\n",
       "      <td>NaN</td>\n",
       "      <td>S</td>\n",
       "    </tr>\n",
       "  </tbody>\n",
       "</table>\n",
       "</div>"
      ],
      "text/plain": [
       "   PassengerId  Pclass                                          Name     Sex  \\\n",
       "0          892       3                              Kelly, Mr. James    male   \n",
       "1          893       3              Wilkes, Mrs. James (Ellen Needs)  female   \n",
       "2          894       2                     Myles, Mr. Thomas Francis    male   \n",
       "3          895       3                              Wirz, Mr. Albert    male   \n",
       "4          896       3  Hirvonen, Mrs. Alexander (Helga E Lindqvist)  female   \n",
       "\n",
       "        Age  SibSp  Parch   Ticket      Fare Cabin Embarked  \n",
       "0  0.452723      0      0   330911  0.015282   NaN        Q  \n",
       "1  0.617566      1      0   363272  0.013663   NaN        S  \n",
       "2  0.815377      0      0   240276  0.018909   NaN        Q  \n",
       "3  0.353818      0      0   315154  0.016908   NaN        S  \n",
       "4  0.287881      1      1  3101298  0.023984   NaN        S  "
      ]
     },
     "execution_count": 46,
     "metadata": {},
     "output_type": "execute_result"
    }
   ],
   "source": [
    "# for min_max scaling\n",
    "from sklearn.preprocessing import MinMaxScaler\n",
    "scaler = MinMaxScaler()\n",
    "testing_data[['Age','Fare']] = scaler.fit_transform(testing_data[['Age','Fare']])\n",
    "testing_data.head()"
   ]
  },
  {
   "cell_type": "code",
   "execution_count": 47,
   "id": "sweet-rogers",
   "metadata": {
    "execution": {
     "iopub.execute_input": "2021-06-12T07:01:50.534434Z",
     "iopub.status.busy": "2021-06-12T07:01:50.533495Z",
     "iopub.status.idle": "2021-06-12T07:01:50.537322Z",
     "shell.execute_reply": "2021-06-12T07:01:50.537779Z",
     "shell.execute_reply.started": "2021-06-12T06:56:50.734695Z"
    },
    "papermill": {
     "duration": 0.090135,
     "end_time": "2021-06-12T07:01:50.537969",
     "exception": false,
     "start_time": "2021-06-12T07:01:50.447834",
     "status": "completed"
    },
    "tags": []
   },
   "outputs": [
    {
     "data": {
      "text/plain": [
       "(418, 11)"
      ]
     },
     "execution_count": 47,
     "metadata": {},
     "output_type": "execute_result"
    }
   ],
   "source": [
    "le = LabelEncoder()\n",
    "testing_data['Sex']= le.fit_transform(testing_data['Sex'])\n",
    "testing_data['Embarked']= le.fit_transform(testing_data['Embarked'])\n",
    "testing_data.shape"
   ]
  },
  {
   "cell_type": "code",
   "execution_count": 48,
   "id": "transparent-vulnerability",
   "metadata": {
    "execution": {
     "iopub.execute_input": "2021-06-12T07:01:50.706267Z",
     "iopub.status.busy": "2021-06-12T07:01:50.704946Z",
     "iopub.status.idle": "2021-06-12T07:01:50.724811Z",
     "shell.execute_reply": "2021-06-12T07:01:50.725265Z",
     "shell.execute_reply.started": "2021-06-12T06:56:50.751120Z"
    },
    "papermill": {
     "duration": 0.106201,
     "end_time": "2021-06-12T07:01:50.725440",
     "exception": false,
     "start_time": "2021-06-12T07:01:50.619239",
     "status": "completed"
    },
    "tags": []
   },
   "outputs": [
    {
     "data": {
      "text/html": [
       "<div>\n",
       "<style scoped>\n",
       "    .dataframe tbody tr th:only-of-type {\n",
       "        vertical-align: middle;\n",
       "    }\n",
       "\n",
       "    .dataframe tbody tr th {\n",
       "        vertical-align: top;\n",
       "    }\n",
       "\n",
       "    .dataframe thead th {\n",
       "        text-align: right;\n",
       "    }\n",
       "</style>\n",
       "<table border=\"1\" class=\"dataframe\">\n",
       "  <thead>\n",
       "    <tr style=\"text-align: right;\">\n",
       "      <th></th>\n",
       "      <th>Pclass</th>\n",
       "      <th>Parch</th>\n",
       "      <th>SibSp</th>\n",
       "      <th>Age</th>\n",
       "      <th>Sex</th>\n",
       "      <th>Embarked</th>\n",
       "      <th>Fare</th>\n",
       "    </tr>\n",
       "  </thead>\n",
       "  <tbody>\n",
       "    <tr>\n",
       "      <th>0</th>\n",
       "      <td>3</td>\n",
       "      <td>0</td>\n",
       "      <td>0</td>\n",
       "      <td>0.452723</td>\n",
       "      <td>1</td>\n",
       "      <td>1</td>\n",
       "      <td>0.015282</td>\n",
       "    </tr>\n",
       "    <tr>\n",
       "      <th>1</th>\n",
       "      <td>3</td>\n",
       "      <td>0</td>\n",
       "      <td>1</td>\n",
       "      <td>0.617566</td>\n",
       "      <td>0</td>\n",
       "      <td>2</td>\n",
       "      <td>0.013663</td>\n",
       "    </tr>\n",
       "    <tr>\n",
       "      <th>2</th>\n",
       "      <td>2</td>\n",
       "      <td>0</td>\n",
       "      <td>0</td>\n",
       "      <td>0.815377</td>\n",
       "      <td>1</td>\n",
       "      <td>1</td>\n",
       "      <td>0.018909</td>\n",
       "    </tr>\n",
       "    <tr>\n",
       "      <th>3</th>\n",
       "      <td>3</td>\n",
       "      <td>0</td>\n",
       "      <td>0</td>\n",
       "      <td>0.353818</td>\n",
       "      <td>1</td>\n",
       "      <td>2</td>\n",
       "      <td>0.016908</td>\n",
       "    </tr>\n",
       "    <tr>\n",
       "      <th>4</th>\n",
       "      <td>3</td>\n",
       "      <td>1</td>\n",
       "      <td>1</td>\n",
       "      <td>0.287881</td>\n",
       "      <td>0</td>\n",
       "      <td>2</td>\n",
       "      <td>0.023984</td>\n",
       "    </tr>\n",
       "    <tr>\n",
       "      <th>...</th>\n",
       "      <td>...</td>\n",
       "      <td>...</td>\n",
       "      <td>...</td>\n",
       "      <td>...</td>\n",
       "      <td>...</td>\n",
       "      <td>...</td>\n",
       "      <td>...</td>\n",
       "    </tr>\n",
       "    <tr>\n",
       "      <th>413</th>\n",
       "      <td>3</td>\n",
       "      <td>0</td>\n",
       "      <td>0</td>\n",
       "      <td>0.346569</td>\n",
       "      <td>1</td>\n",
       "      <td>2</td>\n",
       "      <td>0.015713</td>\n",
       "    </tr>\n",
       "    <tr>\n",
       "      <th>414</th>\n",
       "      <td>1</td>\n",
       "      <td>0</td>\n",
       "      <td>0</td>\n",
       "      <td>0.512066</td>\n",
       "      <td>0</td>\n",
       "      <td>0</td>\n",
       "      <td>0.212559</td>\n",
       "    </tr>\n",
       "    <tr>\n",
       "      <th>415</th>\n",
       "      <td>3</td>\n",
       "      <td>0</td>\n",
       "      <td>0</td>\n",
       "      <td>0.505473</td>\n",
       "      <td>1</td>\n",
       "      <td>2</td>\n",
       "      <td>0.014151</td>\n",
       "    </tr>\n",
       "    <tr>\n",
       "      <th>416</th>\n",
       "      <td>3</td>\n",
       "      <td>0</td>\n",
       "      <td>0</td>\n",
       "      <td>0.346569</td>\n",
       "      <td>1</td>\n",
       "      <td>2</td>\n",
       "      <td>0.015713</td>\n",
       "    </tr>\n",
       "    <tr>\n",
       "      <th>417</th>\n",
       "      <td>3</td>\n",
       "      <td>1</td>\n",
       "      <td>1</td>\n",
       "      <td>0.346569</td>\n",
       "      <td>1</td>\n",
       "      <td>0</td>\n",
       "      <td>0.043640</td>\n",
       "    </tr>\n",
       "  </tbody>\n",
       "</table>\n",
       "<p>418 rows × 7 columns</p>\n",
       "</div>"
      ],
      "text/plain": [
       "     Pclass  Parch  SibSp       Age  Sex  Embarked      Fare\n",
       "0         3      0      0  0.452723    1         1  0.015282\n",
       "1         3      0      1  0.617566    0         2  0.013663\n",
       "2         2      0      0  0.815377    1         1  0.018909\n",
       "3         3      0      0  0.353818    1         2  0.016908\n",
       "4         3      1      1  0.287881    0         2  0.023984\n",
       "..      ...    ...    ...       ...  ...       ...       ...\n",
       "413       3      0      0  0.346569    1         2  0.015713\n",
       "414       1      0      0  0.512066    0         0  0.212559\n",
       "415       3      0      0  0.505473    1         2  0.014151\n",
       "416       3      0      0  0.346569    1         2  0.015713\n",
       "417       3      1      1  0.346569    1         0  0.043640\n",
       "\n",
       "[418 rows x 7 columns]"
      ]
     },
     "execution_count": 48,
     "metadata": {},
     "output_type": "execute_result"
    }
   ],
   "source": [
    "testing_data['Fare'].fillna(testing_data['Fare'].value_counts().idxmax(), inplace=True)\n",
    "testing_data['Age'].fillna(training_data['Age'].median(), inplace=True)\n",
    "test=testing_data[features]\n",
    "test"
   ]
  },
  {
   "cell_type": "markdown",
   "id": "norman-configuration",
   "metadata": {
    "papermill": {
     "duration": 0.080835,
     "end_time": "2021-06-12T07:01:50.886048",
     "exception": false,
     "start_time": "2021-06-12T07:01:50.805213",
     "status": "completed"
    },
    "tags": []
   },
   "source": [
    "Random forest hyper paramters:\n",
    "N-estimators-->number of decision trees default 100\n",
    "Criterion-->function: gini or entropy default gini\n",
    "Max_depth-->number of levels in decision trees default none\n",
    "Max_features-->number of features at each split default auto\n",
    "Bootstrap--> Bootstrap samples or whole data feault true\n",
    "Min_samples_split--> samples per split default 2\n",
    "Min_sample_leaf--> samples required to reach leaf node default 1"
   ]
  },
  {
   "cell_type": "code",
   "execution_count": 49,
   "id": "pleased-hazard",
   "metadata": {
    "execution": {
     "iopub.execute_input": "2021-06-12T07:01:51.054998Z",
     "iopub.status.busy": "2021-06-12T07:01:51.054281Z",
     "iopub.status.idle": "2021-06-12T07:01:51.058319Z",
     "shell.execute_reply": "2021-06-12T07:01:51.057221Z",
     "shell.execute_reply.started": "2021-06-12T06:56:50.777928Z"
    },
    "papermill": {
     "duration": 0.090968,
     "end_time": "2021-06-12T07:01:51.058486",
     "exception": false,
     "start_time": "2021-06-12T07:01:50.967518",
     "status": "completed"
    },
    "tags": []
   },
   "outputs": [],
   "source": [
    "parameter_grid={'bootstrap':[True,False],\n",
    "                'max_features': ['auto', 'log2'],\n",
    "                'max_depth': [2, 4, 5, 10, 15, 25],\n",
    "                'min_samples_split': [2, 5, 10],\n",
    "                'min_samples_leaf' : [1, 2, 4],\n",
    "                'n_estimators': [100, 300, 500, 800]}"
   ]
  },
  {
   "cell_type": "code",
   "execution_count": 50,
   "id": "empirical-bryan",
   "metadata": {
    "execution": {
     "iopub.execute_input": "2021-06-12T07:01:51.227598Z",
     "iopub.status.busy": "2021-06-12T07:01:51.226881Z",
     "iopub.status.idle": "2021-06-12T07:01:51.230057Z",
     "shell.execute_reply": "2021-06-12T07:01:51.229542Z",
     "shell.execute_reply.started": "2021-06-12T06:56:50.784558Z"
    },
    "papermill": {
     "duration": 0.089032,
     "end_time": "2021-06-12T07:01:51.230208",
     "exception": false,
     "start_time": "2021-06-12T07:01:51.141176",
     "status": "completed"
    },
    "tags": []
   },
   "outputs": [],
   "source": [
    "RandomForest_model2 = RandomForestClassifier()"
   ]
  },
  {
   "cell_type": "code",
   "execution_count": 51,
   "id": "loving-projection",
   "metadata": {
    "execution": {
     "iopub.execute_input": "2021-06-12T07:01:51.395820Z",
     "iopub.status.busy": "2021-06-12T07:01:51.395127Z",
     "iopub.status.idle": "2021-06-12T07:01:51.398490Z",
     "shell.execute_reply": "2021-06-12T07:01:51.397958Z",
     "shell.execute_reply.started": "2021-06-12T06:56:50.797081Z"
    },
    "papermill": {
     "duration": 0.088351,
     "end_time": "2021-06-12T07:01:51.398650",
     "exception": false,
     "start_time": "2021-06-12T07:01:51.310299",
     "status": "completed"
    },
    "tags": []
   },
   "outputs": [],
   "source": [
    "from sklearn.model_selection import RandomizedSearchCV\n",
    "Randomized_search_model=RandomizedSearchCV(estimator = RandomForest_model2, \n",
    "                                           param_distributions = parameter_grid, \n",
    "                                           n_iter = 100, \n",
    "                                           cv = 7, \n",
    "                                           verbose=2, \n",
    "                                           random_state=42, \n",
    "                                           n_jobs = -1)"
   ]
  },
  {
   "cell_type": "code",
   "execution_count": 52,
   "id": "introductory-there",
   "metadata": {
    "execution": {
     "iopub.execute_input": "2021-06-12T07:01:51.563778Z",
     "iopub.status.busy": "2021-06-12T07:01:51.562939Z",
     "iopub.status.idle": "2021-06-12T07:05:38.495616Z",
     "shell.execute_reply": "2021-06-12T07:05:38.496134Z",
     "shell.execute_reply.started": "2021-06-12T06:56:50.811208Z"
    },
    "papermill": {
     "duration": 227.018392,
     "end_time": "2021-06-12T07:05:38.496324",
     "exception": false,
     "start_time": "2021-06-12T07:01:51.477932",
     "status": "completed"
    },
    "tags": []
   },
   "outputs": [
    {
     "name": "stdout",
     "output_type": "stream",
     "text": [
      "Fitting 7 folds for each of 100 candidates, totalling 700 fits\n"
     ]
    },
    {
     "data": {
      "text/plain": [
       "{'n_estimators': 800,\n",
       " 'min_samples_split': 5,\n",
       " 'min_samples_leaf': 1,\n",
       " 'max_features': 'log2',\n",
       " 'max_depth': 10,\n",
       " 'bootstrap': True}"
      ]
     },
     "execution_count": 52,
     "metadata": {},
     "output_type": "execute_result"
    }
   ],
   "source": [
    "Randomized_search_model.fit(X_train,y_train)\n",
    "Randomized_search_model.best_params_"
   ]
  },
  {
   "cell_type": "markdown",
   "id": "stable-filing",
   "metadata": {
    "papermill": {
     "duration": 0.079636,
     "end_time": "2021-06-12T07:05:38.655695",
     "exception": false,
     "start_time": "2021-06-12T07:05:38.576059",
     "status": "completed"
    },
    "tags": []
   },
   "source": [
    "momken a2l shwya 3shan el combinations kteera "
   ]
  },
  {
   "cell_type": "code",
   "execution_count": 53,
   "id": "outdoor-slovak",
   "metadata": {
    "execution": {
     "iopub.execute_input": "2021-06-12T07:05:38.826312Z",
     "iopub.status.busy": "2021-06-12T07:05:38.825218Z",
     "iopub.status.idle": "2021-06-12T07:05:38.979131Z",
     "shell.execute_reply": "2021-06-12T07:05:38.978487Z",
     "shell.execute_reply.started": "2021-06-12T07:00:38.484319Z"
    },
    "papermill": {
     "duration": 0.243509,
     "end_time": "2021-06-12T07:05:38.979268",
     "exception": false,
     "start_time": "2021-06-12T07:05:38.735759",
     "status": "completed"
    },
    "tags": []
   },
   "outputs": [
    {
     "data": {
      "text/plain": [
       "0.9143258426966292"
      ]
     },
     "execution_count": 53,
     "metadata": {},
     "output_type": "execute_result"
    }
   ],
   "source": [
    "score = Randomized_search_model.score(X_train,y_train)\n",
    "score"
   ]
  },
  {
   "cell_type": "code",
   "execution_count": 54,
   "id": "usual-anniversary",
   "metadata": {
    "execution": {
     "iopub.execute_input": "2021-06-12T07:05:39.150504Z",
     "iopub.status.busy": "2021-06-12T07:05:39.149850Z",
     "iopub.status.idle": "2021-06-12T07:05:39.249842Z",
     "shell.execute_reply": "2021-06-12T07:05:39.250323Z",
     "shell.execute_reply.started": "2021-06-12T07:00:38.555624Z"
    },
    "papermill": {
     "duration": 0.189986,
     "end_time": "2021-06-12T07:05:39.250517",
     "exception": false,
     "start_time": "2021-06-12T07:05:39.060531",
     "status": "completed"
    },
    "tags": []
   },
   "outputs": [
    {
     "data": {
      "text/plain": [
       "0.8435754189944135"
      ]
     },
     "execution_count": 54,
     "metadata": {},
     "output_type": "execute_result"
    }
   ],
   "source": [
    "score = Randomized_search_model.score(X_test,y_test)\n",
    "score"
   ]
  },
  {
   "cell_type": "code",
   "execution_count": 55,
   "id": "corporate-aquarium",
   "metadata": {
    "execution": {
     "iopub.execute_input": "2021-06-12T07:05:39.421812Z",
     "iopub.status.busy": "2021-06-12T07:05:39.420545Z",
     "iopub.status.idle": "2021-06-12T07:05:39.436744Z",
     "shell.execute_reply": "2021-06-12T07:05:39.437185Z",
     "shell.execute_reply.started": "2021-06-12T07:00:38.604148Z"
    },
    "papermill": {
     "duration": 0.104344,
     "end_time": "2021-06-12T07:05:39.437354",
     "exception": false,
     "start_time": "2021-06-12T07:05:39.333010",
     "status": "completed"
    },
    "tags": []
   },
   "outputs": [
    {
     "data": {
      "text/plain": [
       "0.8324022346368715"
      ]
     },
     "execution_count": 55,
     "metadata": {},
     "output_type": "execute_result"
    }
   ],
   "source": [
    "score = RandomForest_model.score(X_test,y_test)\n",
    "score"
   ]
  },
  {
   "cell_type": "code",
   "execution_count": 56,
   "id": "rational-claim",
   "metadata": {
    "execution": {
     "iopub.execute_input": "2021-06-12T07:05:39.606775Z",
     "iopub.status.busy": "2021-06-12T07:05:39.606075Z",
     "iopub.status.idle": "2021-06-12T07:05:39.706115Z",
     "shell.execute_reply": "2021-06-12T07:05:39.706869Z",
     "shell.execute_reply.started": "2021-06-12T07:00:38.629148Z"
    },
    "papermill": {
     "duration": 0.189198,
     "end_time": "2021-06-12T07:05:39.707097",
     "exception": false,
     "start_time": "2021-06-12T07:05:39.517899",
     "status": "completed"
    },
    "tags": []
   },
   "outputs": [
    {
     "name": "stdout",
     "output_type": "stream",
     "text": [
      "0.1564245810055866\n"
     ]
    }
   ],
   "source": [
    "val_predictions =  Randomized_search_model.predict(X_test)\n",
    "print(mean_absolute_error(y_test, val_predictions))"
   ]
  },
  {
   "cell_type": "code",
   "execution_count": 57,
   "id": "noted-communications",
   "metadata": {
    "execution": {
     "iopub.execute_input": "2021-06-12T07:05:39.877390Z",
     "iopub.status.busy": "2021-06-12T07:05:39.876339Z",
     "iopub.status.idle": "2021-06-12T07:05:40.003557Z",
     "shell.execute_reply": "2021-06-12T07:05:40.002916Z",
     "shell.execute_reply.started": "2021-06-12T07:00:38.681988Z"
    },
    "papermill": {
     "duration": 0.214796,
     "end_time": "2021-06-12T07:05:40.003718",
     "exception": false,
     "start_time": "2021-06-12T07:05:39.788922",
     "status": "completed"
    },
    "tags": []
   },
   "outputs": [
    {
     "data": {
      "text/plain": [
       "(418,)"
      ]
     },
     "execution_count": 57,
     "metadata": {},
     "output_type": "execute_result"
    }
   ],
   "source": [
    "predictions = Randomized_search_model.predict(test)\n",
    "predictions.shape"
   ]
  },
  {
   "cell_type": "code",
   "execution_count": 58,
   "id": "descending-consolidation",
   "metadata": {
    "execution": {
     "iopub.execute_input": "2021-06-12T07:05:40.173517Z",
     "iopub.status.busy": "2021-06-12T07:05:40.172837Z",
     "iopub.status.idle": "2021-06-12T07:05:40.181689Z",
     "shell.execute_reply": "2021-06-12T07:05:40.181175Z",
     "shell.execute_reply.started": "2021-06-12T07:00:38.737155Z"
    },
    "papermill": {
     "duration": 0.096286,
     "end_time": "2021-06-12T07:05:40.181835",
     "exception": false,
     "start_time": "2021-06-12T07:05:40.085549",
     "status": "completed"
    },
    "tags": []
   },
   "outputs": [
    {
     "name": "stdout",
     "output_type": "stream",
     "text": [
      "Your submission was successfully saved!\n"
     ]
    }
   ],
   "source": [
    "output = pd.DataFrame({'PassengerId': testing_data.PassengerId, 'Survived': predictions})\n",
    "output.to_csv('my_submission.csv',index=False)\n",
    "print(\"Your submission was successfully saved!\")"
   ]
  },
  {
   "cell_type": "markdown",
   "id": "extreme-better",
   "metadata": {
    "papermill": {
     "duration": 0.101512,
     "end_time": "2021-06-12T07:05:40.371127",
     "exception": false,
     "start_time": "2021-06-12T07:05:40.269615",
     "status": "completed"
    },
    "tags": []
   },
   "source": [
    "References:\n",
    "Kaggle courses\n",
    "https://www.freecodecamp.org/news/feature-engineering-and-feature-selection-for-beginners/"
   ]
  }
 ],
 "metadata": {
  "kernelspec": {
   "display_name": "Python 3",
   "language": "python",
   "name": "python3"
  },
  "language_info": {
   "codemirror_mode": {
    "name": "ipython",
    "version": 3
   },
   "file_extension": ".py",
   "mimetype": "text/x-python",
   "name": "python",
   "nbconvert_exporter": "python",
   "pygments_lexer": "ipython3",
   "version": "3.7.10"
  },
  "papermill": {
   "default_parameters": {},
   "duration": 254.05221,
   "end_time": "2021-06-12T07:05:42.255572",
   "environment_variables": {},
   "exception": null,
   "input_path": "__notebook__.ipynb",
   "output_path": "__notebook__.ipynb",
   "parameters": {},
   "start_time": "2021-06-12T07:01:28.203362",
   "version": "2.3.3"
  }
 },
 "nbformat": 4,
 "nbformat_minor": 5
}
